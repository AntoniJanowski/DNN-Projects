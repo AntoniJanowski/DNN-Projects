{
  "cells": [
    {
      "cell_type": "markdown",
      "metadata": {
        "id": "gfdy6JZoUSub"
      },
      "source": [
        "# Low-shot visual anomaly detection (v2.1)\n",
        "\n",
        "*This is the updated version of the homework with some additional clarifications and changes in the task descriptions (see slack channel for details). The code remains untouched.*\n",
        "\n",
        "In this notebook you'll investigate visual anomaly detection in a typical industrial setting - we don't have much data and we can train only only normal (non-anomalous) examples.\n",
        "Read the [PADIM paper](https://arxiv.org/pdf/2011.08785.pdf) carefully.\n",
        "The code here is based on the original implementation from its authors.\n",
        "\n",
        "If you have any questions - please write them on slack in the channel.\n",
        "\n",
        "### Bibliography\n",
        "\n",
        "1. Defard, T., Setkov, A., Loesch, A., & Audigier, R. (2021). [Padim: a patch distribution modeling framework for anomaly detection and localization](https://arxiv.org/pdf/2011.08785.pdf). In International Conference on Pattern Recognition (pp. 475-489). Cham: Springer International Publishing."
      ]
    },
    {
      "cell_type": "markdown",
      "metadata": {
        "id": "TqfIwE-iUSue"
      },
      "source": [
        "## Data\n",
        "\n",
        "In case of any problems - please visit [MVTec AD](https://www.mvtec.com/company/research/datasets/mvtec-ad/downloads) to get the access to the data."
      ]
    },
    {
      "cell_type": "code",
      "execution_count": 45,
      "metadata": {
        "id": "SZ3X1XvdUSug"
      },
      "outputs": [],
      "source": [
        "%pip install --quiet gdown  # for those who don't run it on Google Colab\n",
        "!wget -q https://www.mydrive.ch/shares/38536/3830184030e49fe74747669442f0f282/download/420937370-1629951468/bottle.tar.xz\n",
        "!wget -q https://www.mydrive.ch/shares/38536/3830184030e49fe74747669442f0f282/download/420937637-1629952063/metal_nut.tar.xz\n",
        "!wget -q https://www.mydrive.ch/shares/38536/3830184030e49fe74747669442f0f282/download/420938166-1629953277/transistor.tar.xz"
      ]
    },
    {
      "cell_type": "code",
      "execution_count": 46,
      "metadata": {
        "id": "qWG7BKcwUSuh"
      },
      "outputs": [],
      "source": [
        "from pathlib import Path\n",
        "import tarfile\n",
        "\n",
        "DATA_PATH = Path('./mvtec_anomaly_detection')\n",
        "DATA_PATH.mkdir(exist_ok=True)\n",
        "\n",
        "for class_name in ['bottle', 'metal_nut', 'transistor']:\n",
        "    if not (DATA_PATH / class_name).exists():\n",
        "        with tarfile.open(class_name + '.tar.xz') as tar:\n",
        "            tar.extractall(path=DATA_PATH)"
      ]
    },
    {
      "cell_type": "markdown",
      "metadata": {
        "id": "qyBUhGacUSuj"
      },
      "source": [
        "## PADIM implementation"
      ]
    },
    {
      "cell_type": "code",
      "execution_count": 47,
      "metadata": {
        "id": "0htqqxvRUSuj"
      },
      "outputs": [],
      "source": [
        "import os\n",
        "import random\n",
        "import time\n",
        "from pathlib import Path\n",
        "from random import sample\n",
        "from typing import cast, Any, Dict, List, Optional, Tuple\n",
        "\n",
        "import pandas as pd\n",
        "import matplotlib.pyplot as plt\n",
        "import numpy as np\n",
        "import torch\n",
        "import torch.backends, torch.backends.mps\n",
        "import torch.nn.functional as F\n",
        "from numpy.typing import NDArray\n",
        "from matplotlib import colors\n",
        "from PIL import Image\n",
        "from sklearn.metrics import roc_auc_score, roc_curve, precision_recall_curve\n",
        "from scipy.spatial.distance import mahalanobis\n",
        "from scipy.ndimage import gaussian_filter\n",
        "from skimage import morphology\n",
        "from skimage.segmentation import mark_boundaries\n",
        "from torch.utils.data import DataLoader, Dataset\n",
        "from torchvision.models import wide_resnet50_2, resnet18, Wide_ResNet50_2_Weights, ResNet18_Weights\n",
        "from torch import nn\n",
        "from torchvision import transforms as T\n",
        "from tqdm import tqdm\n",
        "from torch.utils.data.sampler import SubsetRandomSampler\n",
        "\n",
        "FloatNDArray = NDArray[np.float32]"
      ]
    },
    {
      "cell_type": "code",
      "execution_count": 48,
      "metadata": {
        "id": "-NNmZoyEUSul"
      },
      "outputs": [],
      "source": [
        "# Leave it as is if you're unsure, this notebook will guess this for you below.\n",
        "DEVICE: Optional[torch.device] = None\n",
        "SEED: int = 42  # do not modify\n",
        "\n",
        "plt.style.use(\"dark_background\")"
      ]
    },
    {
      "cell_type": "code",
      "execution_count": 49,
      "metadata": {
        "id": "gf-5yTiGUSum"
      },
      "outputs": [],
      "source": [
        "def seed_all(seed: int = 0) -> None:\n",
        "    random.seed(seed)\n",
        "    np.random.seed(seed)\n",
        "    torch.manual_seed(seed)\n",
        "    if torch.cuda.is_available():\n",
        "        torch.cuda.manual_seed_all(seed)\n",
        "\n",
        "\n",
        "def get_best_device_for_pytorch() -> torch.device:\n",
        "    if torch.cuda.is_available():\n",
        "        device_str = \"cuda\"     # GPU\n",
        "    elif hasattr(torch.backends, \"mps\") and torch.backends.mps.is_available():\n",
        "        device_str = \"mps\"      # Apple silicon\n",
        "    else:\n",
        "        device_str = \"cpu\"      # CPU\n",
        "    return torch.device(device_str)"
      ]
    },
    {
      "cell_type": "code",
      "execution_count": 50,
      "metadata": {
        "id": "qiM0AWxpUSum",
        "outputId": "a34581ba-1ba1-4743-e8f5-2bff7d26418f",
        "colab": {
          "base_uri": "https://localhost:8080/"
        }
      },
      "outputs": [
        {
          "output_type": "stream",
          "name": "stdout",
          "text": [
            "Using PyTorch with cpu backend.\n",
            "Seeded everything with 42.\n"
          ]
        }
      ],
      "source": [
        "if not DEVICE:\n",
        "    DEVICE = get_best_device_for_pytorch()\n",
        "print(f\"Using PyTorch with {DEVICE} backend.\")\n",
        "\n",
        "seed_all(SEED)\n",
        "print(f\"Seeded everything with {SEED}.\")"
      ]
    },
    {
      "cell_type": "markdown",
      "metadata": {
        "id": "LVsQlBvCUSuo"
      },
      "source": [
        "### MVTecDataset"
      ]
    },
    {
      "cell_type": "code",
      "execution_count": 51,
      "metadata": {
        "id": "xMw9UKt2USup"
      },
      "outputs": [],
      "source": [
        "class MVTecDataset(Dataset[Tuple[torch.Tensor, int, torch.Tensor]]):\n",
        "    \"\"\"MVTec dataset of industrial objects with and without anomalies.\n",
        "\n",
        "    Yields (x, y, mask) tuples where:\n",
        "    - x is an RGB image from the class, as float tensor of shape (3, cropsize, cropsize);\n",
        "    - y is an int, 0 for good images, 1 for anomalous images;\n",
        "    - mask is 0 for normal pixels, 1 for anomalous pixels, as float tensor of shape (1, cropsize, cropsize).\n",
        "\n",
        "    Source: https://github.com/xiahaifeng1995/PaDiM-Anomaly-Detection-Localization-master/blob/main/datasets/mvtec.py\n",
        "    \"\"\"\n",
        "\n",
        "    def __init__(self, dataset_path: Path, class_name: str = 'bottle',\n",
        "                 is_train: bool = True, resize: int = 256, cropsize: int = 224, return_only_indices=False):\n",
        "        self.dataset_path = dataset_path\n",
        "        self.class_name = class_name\n",
        "        assert (dataset_path / class_name).is_dir(), f'Dataset class not found: {dataset_path / class_name}'\n",
        "        self.is_train = is_train\n",
        "\n",
        "        self.resize = resize\n",
        "        self.cropsize = cropsize\n",
        "\n",
        "        # load dataset\n",
        "        self.x, self.y, self.mask = self.load_dataset_folder()\n",
        "\n",
        "        # set transforms\n",
        "        self.transform_x = T.Compose([T.Resize(resize, Image.LANCZOS),\n",
        "                                      T.CenterCrop(cropsize),\n",
        "                                      T.ToTensor(),\n",
        "                                      T.Normalize(mean=[0.485, 0.456, 0.406],\n",
        "                                                  std=[0.229, 0.224, 0.225])])\n",
        "        self.transform_mask = T.Compose([T.Resize(resize, Image.NEAREST),\n",
        "                                         T.CenterCrop(cropsize),\n",
        "                                         T.ToTensor()])\n",
        "\n",
        "        self.return_only_indices = return_only_indices\n",
        "\n",
        "    def __getitem__(self, idx: int) -> Tuple[torch.Tensor, int, torch.Tensor]:\n",
        "        if self.return_only_indices:  # Used for checking the answer of T1.1.\n",
        "            return idx\n",
        "\n",
        "        x, y, mask = self.x[idx], self.y[idx], self.mask[idx]\n",
        "\n",
        "        x = Image.open(x).convert('RGB')\n",
        "        x = cast(torch.Tensor, self.transform_x(x))\n",
        "\n",
        "        if y == 0:\n",
        "            mask = torch.zeros([1, self.cropsize, self.cropsize])\n",
        "        else:\n",
        "            assert mask is not None\n",
        "            mask = Image.open(mask)\n",
        "            mask = cast(torch.Tensor, self.transform_mask(mask))\n",
        "\n",
        "        return x, y, mask\n",
        "\n",
        "    def __len__(self) -> int:\n",
        "        return len(self.x)\n",
        "\n",
        "    def load_dataset_folder(self) -> Tuple[List[Path], List[int], List[Optional[Path]]]:\n",
        "        phase = 'train' if self.is_train else 'test'\n",
        "        x: List[Path] = []\n",
        "        y: List[int] = []\n",
        "        mask: List[Optional[Path]] = []\n",
        "\n",
        "        img_dir = self.dataset_path / self.class_name / phase\n",
        "        gt_dir = self.dataset_path / self.class_name / 'ground_truth'\n",
        "\n",
        "        for img_type_dir in sorted(img_dir.iterdir()):\n",
        "            # Load images.\n",
        "            if not img_type_dir.is_dir():\n",
        "                continue\n",
        "            img_fpath_list = sorted(img_type_dir.glob('*.png'))\n",
        "            x.extend(img_fpath_list)\n",
        "\n",
        "            # Load ground-truth labels and masks.\n",
        "            if img_type_dir.name == 'good':\n",
        "                y.extend([0] * len(img_fpath_list))\n",
        "                mask.extend([None] * len(img_fpath_list))\n",
        "            else:\n",
        "                y.extend([1] * len(img_fpath_list))\n",
        "                mask.extend([gt_dir / img_type_dir.name / (f.stem + '_mask.png')\n",
        "                            for f in img_fpath_list])\n",
        "\n",
        "        assert len(x) == len(y) == len(mask), 'Number of x, y, and mask should be the same.'\n",
        "        return x, y, mask"
      ]
    },
    {
      "cell_type": "code",
      "execution_count": 52,
      "metadata": {
        "id": "dTkhO4AfUSuq"
      },
      "outputs": [],
      "source": [
        "def sample_idx(number_of_features: int, max_number_of_features: int) -> torch.Tensor:\n",
        "    assert number_of_features <= max_number_of_features\n",
        "    return torch.tensor(sample(range(0, max_number_of_features), number_of_features))\n",
        "\n",
        "\n",
        "def denormalization(x: FloatNDArray) -> NDArray[np.uint8]:\n",
        "    \"\"\"Denormalize with ImageNet values.\"\"\"\n",
        "    mean = np.array([0.485, 0.456, 0.406])\n",
        "    std = np.array([0.229, 0.224, 0.225])\n",
        "    return (((x.transpose(1, 2, 0) * std) + mean) * 255.).astype(np.uint8)\n",
        "\n",
        "\n",
        "def embedding_concat(x: torch.Tensor, y: torch.Tensor) -> torch.Tensor:\n",
        "    \"\"\"\n",
        "    Concatenate embeddings (along the channel dimension, upscaling y to match x).\n",
        "\n",
        "    Args:\n",
        "        x: Tensor of shape (B, C1, H1, W1).\n",
        "        y: Tensor of shape (B, C2, H2, W2).\n",
        "\n",
        "    Returns:\n",
        "        Tensor of shape is (B, C1 + C2, H1, W1).\n",
        "    \"\"\"\n",
        "    B, C1, H1, W1 = x.size()\n",
        "    _, C2, H2, W2 = y.size()\n",
        "    s = int(H1 / H2)\n",
        "    x = F.unfold(x, kernel_size=s, dilation=1, stride=s)\n",
        "    x = x.view(B, C1, s * s, H2, W2)\n",
        "    z = torch.zeros(B, C1 + C2, s * s, H2, W2).to(x.device)\n",
        "    for i in range(s * s):\n",
        "        z[:, :, i, :, :] = torch.cat((x[:, :, i, :, :], y), dim=1)\n",
        "    z = z.view(B, -1, H2 * W2)\n",
        "    z = F.fold(z, kernel_size=s, output_size=(H1, W1), stride=s)\n",
        "    return z\n",
        "\n",
        "def concatenate_embeddings_from_all_layers(layer_outputs: Dict[str, torch.Tensor]) -> torch.Tensor:\n",
        "        embedding_vectors = layer_outputs['layer1']\n",
        "        for layer_name in ['layer2', 'layer3']:\n",
        "            embedding_vectors = embedding_concat(embedding_vectors, layer_outputs[layer_name])\n",
        "        return embedding_vectors\n",
        "\n",
        "def plot_fig(test_img, scores, gts, threshold: float, save_dir: Path, class_name: str):\n",
        "    num = len(scores)\n",
        "    vmax = scores.max() * 255.\n",
        "    vmin = scores.min() * 255.\n",
        "    for i in range(num):\n",
        "        img = test_img[i]\n",
        "        img = denormalization(img)\n",
        "        gt = gts[i].transpose(1, 2, 0).squeeze()\n",
        "        heat_map = scores[i] * 255\n",
        "        mask = scores[i]\n",
        "        mask[mask > threshold] = 1\n",
        "        mask[mask <= threshold] = 0\n",
        "        kernel = morphology.disk(4)\n",
        "        mask = morphology.opening(mask, kernel)\n",
        "        mask *= 255\n",
        "        vis_img = mark_boundaries(img, mask, color=(1, 0, 0), mode='thick')\n",
        "        fig_img, ax_img = plt.subplots(1, 5, figsize=(12, 3))\n",
        "        fig_img.subplots_adjust(right=0.9)\n",
        "        norm = colors.Normalize(vmin=vmin, vmax=vmax)\n",
        "        for ax_i in ax_img:\n",
        "            ax_i.axes.xaxis.set_visible(False)\n",
        "            ax_i.axes.yaxis.set_visible(False)\n",
        "        ax_img[0].imshow(img)\n",
        "        ax_img[0].title.set_text('Image')\n",
        "        ax_img[1].imshow(gt, cmap='gray')\n",
        "        ax_img[1].title.set_text('GroundTruth')\n",
        "        ax = ax_img[2].imshow(heat_map, cmap='jet', norm=norm)\n",
        "        ax_img[2].imshow(img, cmap='gray', interpolation='none')\n",
        "        ax_img[2].imshow(heat_map, cmap='jet', alpha=0.5, interpolation='none')\n",
        "        ax_img[2].title.set_text('Predicted heat map')\n",
        "        ax_img[3].imshow(mask, cmap='gray')\n",
        "        ax_img[3].title.set_text('Predicted mask')\n",
        "        ax_img[4].imshow(vis_img)\n",
        "        ax_img[4].title.set_text('Segmentation result')\n",
        "        left = 0.92\n",
        "        bottom = 0.15\n",
        "        width = 0.015\n",
        "        height = 1 - 2 * bottom\n",
        "        rect = [left, bottom, width, height]\n",
        "        cbar_ax = fig_img.add_axes(rect)\n",
        "        cb = plt.colorbar(ax, shrink=0.6, cax=cbar_ax, fraction=0.046)\n",
        "        cb.ax.tick_params(labelsize=8)\n",
        "        font = {\n",
        "            'family': 'serif',\n",
        "            'color': 'black',\n",
        "            'weight': 'normal',\n",
        "            'size': 8,\n",
        "        }\n",
        "        cb.set_label('Anomaly Score', fontdict=font)\n",
        "\n",
        "        fig_img.savefig(save_dir / f'{class_name}_{i}', dpi=100)\n",
        "        plt.close()"
      ]
    },
    {
      "cell_type": "code",
      "execution_count": 53,
      "metadata": {
        "id": "vmBeAD7WUSur"
      },
      "outputs": [],
      "source": [
        "def get_feature_extractor(arch: str) -> nn.Module:\n",
        "    if arch == 'resnet18':\n",
        "        model = resnet18(weights=ResNet18_Weights.IMAGENET1K_V1, progress=True)\n",
        "        # t_d = 448\n",
        "        # d = 40\n",
        "    elif arch == 'wide_resnet50_2':\n",
        "        model = wide_resnet50_2(weights=Wide_ResNet50_2_Weights.IMAGENET1K_V1, progress=True)\n",
        "        # t_d = 1792\n",
        "        # d = 550\n",
        "    else:\n",
        "        raise NotImplementedError\n",
        "    return model"
      ]
    },
    {
      "cell_type": "markdown",
      "metadata": {
        "id": "oxchqw6zUSur"
      },
      "source": [
        "### PADIM class"
      ]
    },
    {
      "cell_type": "code",
      "execution_count": 54,
      "metadata": {
        "id": "Eri8rQR8USus"
      },
      "outputs": [],
      "source": [
        "class PADIM():\n",
        "\n",
        "    def __init__(\n",
        "            self,\n",
        "            backbone: str,\n",
        "            device: torch.device,\n",
        "            save_path: Path,\n",
        "            backbone_features_idx: torch.Tensor,\n",
        "            class_names: List[str] = [\"bottle\"],\n",
        "            plot_metrics: bool = False,\n",
        "    ) -> None:\n",
        "        self.arch = backbone\n",
        "        self.device = device\n",
        "        self.model = get_feature_extractor(backbone)\n",
        "        self.model.to(device)\n",
        "        self.model.eval()\n",
        "\n",
        "        self.feature_subset_indices = backbone_features_idx\n",
        "        self.feature_subset_indices.to(device)\n",
        "\n",
        "        self.outputs: Dict[str, torch.Tensor] = {}\n",
        "\n",
        "        self.class_names = class_names\n",
        "        self.save_path = save_path\n",
        "        self.plot_metrics = plot_metrics\n",
        "\n",
        "        self.setup_hooks()\n",
        "        (self.save_path / f'temp_{self.arch}').mkdir(parents=True, exist_ok=True)\n",
        "\n",
        "        self.mean: FloatNDArray  # shape (C, H * W)\n",
        "        self.cov: FloatNDArray  # shape (C, C, H * W)\n",
        "\n",
        "    def setup_hooks(self):\n",
        "        \"\"\"Setup hooks to store model's intermediate outputs.\"\"\"\n",
        "        self.model.layer1[-1].register_forward_hook(lambda _, __, x: self.outputs.update({'layer1': x}))\n",
        "        self.model.layer2[-1].register_forward_hook(lambda _, __, x: self.outputs.update({'layer2': x}))\n",
        "        self.model.layer3[-1].register_forward_hook(lambda _, __, x: self.outputs.update({'layer3': x}))\n",
        "\n",
        "    def train_and_test(self, train_dataloader: DataLoader, test_dataloader: DataLoader) -> float:\n",
        "        self.train(train_dataloader)\n",
        "        return self.test(test_dataloader)\n",
        "\n",
        "    def train(self, train_dataloader: DataLoader) -> None:\n",
        "        self.train_outputs: Dict[str, List[torch.Tensor]] = {'layer1': [], 'layer2': [], 'layer3': []}\n",
        "        for x, _, _ in tqdm(train_dataloader, desc='Feature extraction (train)'):\n",
        "            # Run model prediction.\n",
        "            with torch.no_grad():\n",
        "                _ = self.model(x.to(DEVICE))\n",
        "            # Get intermediate layer outputs.\n",
        "            assert list(self.outputs.keys())  == ['layer1', 'layer2', 'layer3'], list(self.outputs.keys())\n",
        "            for k, v in self.outputs.items():\n",
        "                self.train_outputs[k].append(v.cpu().detach())\n",
        "            # Reset hook outputs.\n",
        "            self.outputs = {}\n",
        "\n",
        "        embedding_vectors = concatenate_embeddings_from_all_layers(\n",
        "            {k: torch.cat(v, 0) for k, v in self.train_outputs.items()})\n",
        "        embedding_vectors_subset = torch.index_select(embedding_vectors, 1, self.feature_subset_indices.cpu())\n",
        "\n",
        "        self.mean, self.cov = self.estimate_multivariate_gaussian(embedding_vectors_subset)\n",
        "        del(self.train_outputs)\n",
        "\n",
        "    def estimate_multivariate_gaussian(self, embedding_vectors: torch.Tensor\n",
        "                                       ) -> Tuple[FloatNDArray, FloatNDArray]:\n",
        "        \"\"\"Calculates multivariate Gaussian distribution.\n",
        "\n",
        "        Takes embeddings of shape (N, C, H, W).\n",
        "        Returns (mean, covariance) of shape (C, H * W) and (C, C, H * W) respectively.\n",
        "        \"\"\"\n",
        "        B, C, H, W = embedding_vectors.size()\n",
        "        embedding_vectors = embedding_vectors.view(B, C, H * W)\n",
        "        mean = torch.mean(embedding_vectors, dim=0).numpy()\n",
        "        cov = torch.zeros(C, C, H * W).numpy()\n",
        "        I = np.identity(C)\n",
        "        for i in tqdm(range(H * W), desc=\"Covariance estimation\"):\n",
        "            cov[:, :, i] = np.cov(embedding_vectors[:, :, i].numpy(), rowvar=False) + 0.01 * I\n",
        "        return mean, cov\n",
        "\n",
        "    def test(self, test_dataloader: DataLoader) -> float:\n",
        "        self.test_outputs: Dict[str, List[torch.Tensor]] = {'layer1': [], 'layer2': [], 'layer3': []}\n",
        "        test_imgs: List[FloatNDArray] = []\n",
        "        gt_list: List[NDArray[Any]] = []\n",
        "        gt_mask_list: List[FloatNDArray] = []\n",
        "\n",
        "        # Extract test set features.\n",
        "        for x, y, mask in tqdm(test_dataloader, desc='Feature extraction (test)', disable=False):\n",
        "            x_shape = x.shape\n",
        "            test_imgs.extend(x.cpu().detach().numpy())\n",
        "            gt_list.extend(y.cpu().detach().numpy())\n",
        "            gt_mask_list.extend(mask.cpu().detach().numpy())\n",
        "            # Run model prediction.\n",
        "            with torch.no_grad():\n",
        "                _ = self.model(x.to(DEVICE))\n",
        "            # Get intermediate layer outputs.\n",
        "            assert list(self.outputs.keys())  == ['layer1', 'layer2', 'layer3']\n",
        "            for k, v in self.outputs.items():\n",
        "                self.test_outputs[k].append(v.cpu().detach())\n",
        "            # Reset hook outputs.\n",
        "            self.outputs = {}\n",
        "        gt_mask = np.asarray(gt_mask_list)  # shape (len(test_dataset), 1, H, W)\n",
        "\n",
        "        embedding_vectors = concatenate_embeddings_from_all_layers(\n",
        "            {k: torch.cat(v, 0) for k, v in self.test_outputs.items()})\n",
        "        # shape (len(test_dataset), len(feature_subset_indices), H1, W1)\n",
        "        embedding_vectors_subset = torch.index_select(embedding_vectors, 1, self.feature_subset_indices.cpu())\n",
        "\n",
        "        distances = self.calculate_distances(embedding_vectors_subset)\n",
        "        score_map = self.prepare_anomaly_map((x_shape[2], x_shape[3]), distances)\n",
        "\n",
        "        img_fpr, img_tpr, img_auroc = self.calculate_auroc_image_level(score_map, gt_list)\n",
        "        pxl_fpr, pxl_tpr, pxl_auroc = self.calculate_auroc_pixel_level(score_map, gt_mask)\n",
        "\n",
        "        if self.plot_metrics:\n",
        "            print(f'[TEST] Image AUROC: {img_auroc:.3f}')\n",
        "            print(f'[TEST] Pixel AUROC: {pxl_auroc:.3f}')\n",
        "            threshold = self.calculate_optimal_threshold(score_map, gt_mask)\n",
        "            self.plot_test_results_for_class(gt_mask_list, test_imgs, score_map, threshold, img_fpr, img_tpr, img_auroc, pxl_fpr, pxl_tpr, pxl_auroc)\n",
        "\n",
        "        return pxl_auroc\n",
        "\n",
        "    # TODO: Some of your code for Task 1 goes here. You can add more functions if needed, but use the ones below - we will use them for checking your solution.\n",
        "    def test_permutation_importance(self, val_dataloader: DataLoader, features_to_permute: List[int]) -> List[float]:\n",
        "        \"\"\"Runs a series of tests on `val_dataloader`.\n",
        "        Returns a list of pixelwise AUROCs, where the n-th element of the list is generated by testing the embeddings from `permute_feature(embeddings, n).\"\"\"\n",
        "        results = []\n",
        "        for i in features_to_permute:\n",
        "          si = self.test_with_permuted_features(val_dataloader, i)\n",
        "          results.append(si)\n",
        "        return results\n",
        "\n",
        "    def test_with_permuted_features(self, test_dataloader: DataLoader, feature_to_permute: int) -> float:\n",
        "        self.test_outputs: Dict[str, List[torch.Tensor]] = {'layer1': [], 'layer2': [], 'layer3': []}\n",
        "        test_imgs: List[FloatNDArray] = []\n",
        "        gt_list: List[NDArray[Any]] = []\n",
        "        gt_mask_list: List[FloatNDArray] = []\n",
        "\n",
        "        # Extract test set features.\n",
        "        for x, y, mask in tqdm(test_dataloader, desc='Feature extraction (test)', disable=False):\n",
        "            x_shape = x.shape\n",
        "            test_imgs.extend(x.cpu().detach().numpy())\n",
        "            gt_list.extend(y.cpu().detach().numpy())\n",
        "            gt_mask_list.extend(mask.cpu().detach().numpy())\n",
        "            # Run model prediction.\n",
        "            with torch.no_grad():\n",
        "                _ = self.model(x.to(DEVICE))\n",
        "            # Get intermediate layer outputs.\n",
        "            assert list(self.outputs.keys())  == ['layer1', 'layer2', 'layer3']\n",
        "            for k, v in self.outputs.items():\n",
        "                self.test_outputs[k].append(v.cpu().detach())\n",
        "            # Reset hook outputs.\n",
        "            self.outputs = {}\n",
        "        gt_mask = np.asarray(gt_mask_list)  # shape (len(test_dataset), 1, H, W)\n",
        "\n",
        "        embedding_vectors = concatenate_embeddings_from_all_layers(\n",
        "            {k: torch.cat(v, 0) for k, v in self.test_outputs.items()})\n",
        "        # shape (len(test_dataset), len(feature_subset_indices), H1, W1)\n",
        "        embedding_vectors_subset = torch.index_select(embedding_vectors, 1, self.feature_subset_indices.cpu())\n",
        "\n",
        "        embedding_vectors_subset = self.permute_feature(embedding_vectors_subset, feature_to_permute) #To jedyna linijka którą zmieniłem\n",
        "\n",
        "        distances = self.calculate_distances(embedding_vectors_subset)\n",
        "        score_map = self.prepare_anomaly_map((x_shape[2], x_shape[3]), distances)\n",
        "\n",
        "        #img_fpr, img_tpr, img_auroc = self.calculate_auroc_image_level(score_map, gt_list)\n",
        "        pxl_fpr, pxl_tpr, pxl_auroc = self.calculate_auroc_pixel_level(score_map, gt_mask)\n",
        "\n",
        "        #if self.plot_metrics:\n",
        "        #    print(f'[TEST] Image AUROC: {img_auroc:.3f}')\n",
        "        #    print(f'[TEST] Pixel AUROC: {pxl_auroc:.3f}')\n",
        "        #    threshold = self.calculate_optimal_threshold(score_map, gt_mask)\n",
        "        #    self.plot_test_results_for_class(gt_mask_list, test_imgs, score_map, threshold, img_fpr, img_tpr, img_auroc, pxl_fpr, pxl_tpr, pxl_auroc)\n",
        "\n",
        "        return pxl_auroc\n",
        "    def permute_feature(self, embedding_vectors_subset: torch.Tensor, number_of_feature_to_permute: int) -> torch.Tensor:\n",
        "        \"\"\"Permutes the embeddings.\n",
        "\n",
        "        Takes embeddings of shape (N, C, H, W) and feature number to permute.\n",
        "        Returns embeddings with the same shape. See the description of T1 for the details.\n",
        "        \"\"\"\n",
        "        N, C, H, W = embedding_vectors_subset.size()\n",
        "        output = embedding_vectors_subset.clone()\n",
        "\n",
        "        for n in range(N):\n",
        "                     # Get the values to shuffle\n",
        "                values_to_shuffle = output[n, number_of_feature_to_permute, :, :]\n",
        "\n",
        "                # Reshape the values to shuffle for easier manipulation\n",
        "                reshaped_values = values_to_shuffle.view(-1, H * W)\n",
        "\n",
        "                # Convert to numpy for shuffling (PyTorch doesn't have an in-place shuffle along a specific dimension)\n",
        "                reshaped_values_np = reshaped_values.cpu().numpy()\n",
        "                np.random.shuffle(reshaped_values_np[0])\n",
        "\n",
        "                # Convert back to PyTorch tensor\n",
        "                reshaped_values = torch.from_numpy(reshaped_values_np).to(output.device)\n",
        "\n",
        "                # Reshape back to original shape and assign shuffled values\n",
        "                output[n, number_of_feature_to_permute, :, :] = reshaped_values.view(H, W)\n",
        "\n",
        "        return output\n",
        "    # TODO: End of your code for Task 1 (here)\n",
        "\n",
        "    def plot_test_results_for_class(self, gt_mask_list, test_imgs,\n",
        "                                    score_map, threshold: float,\n",
        "                                    img_fpr, img_tpr, img_auroc: float,\n",
        "                                    pxl_fpr, pxl_tpr, pxl_auroc: float):\n",
        "        _, ax = plt.subplots(1, 2, figsize=(8, 4))\n",
        "        ax[0].plot(img_fpr, img_tpr, label=f'Image AUROC: {img_auroc:.3f}')\n",
        "        ax[1].plot(pxl_fpr, pxl_tpr, label=f'Pixel AUROC: {pxl_auroc:.3f}')\n",
        "\n",
        "        save_dir = self.save_path / f'pictures_{self.arch}'\n",
        "        save_dir.mkdir(parents=True, exist_ok=True)\n",
        "        plot_fig(test_imgs, score_map, gt_mask_list,\n",
        "                 threshold, save_dir, \"\")\n",
        "\n",
        "    def calculate_auroc_image_level(self, score_map: FloatNDArray, gt_list: List[NDArray[Any]]) -> Tuple[FloatNDArray, FloatNDArray, float]:\n",
        "        \"\"\"Calculate image-level AUROC score.\"\"\"\n",
        "        img_scores = score_map.reshape(score_map.shape[0], -1).max(axis=1)\n",
        "        fpr, tpr, _ = roc_curve(gt_list, img_scores)  # false-positive-rates and true-positive-rates for consecutive thresholds (for plotting).\n",
        "        img_auroc = roc_auc_score(gt_list, img_scores)\n",
        "        return fpr, tpr, float(img_auroc)\n",
        "\n",
        "    def calculate_auroc_pixel_level(self, score_map: FloatNDArray, gt_mask: FloatNDArray) -> Tuple[FloatNDArray, FloatNDArray, float]:\n",
        "        \"\"\"Calculate per-pixel level AUROC.\"\"\"\n",
        "        assert score_map.shape == gt_mask.squeeze().shape, f\"{score_map.shape=}, {gt_mask.shape=}\"\n",
        "        fpr, tpr, _ = roc_curve(gt_mask.flatten(), score_map.flatten())\n",
        "        per_pixel_auroc = roc_auc_score(gt_mask.flatten(), score_map.flatten())\n",
        "        return fpr, tpr, float(per_pixel_auroc)\n",
        "\n",
        "    def calculate_optimal_threshold(self, score_map: FloatNDArray, gt_mask: FloatNDArray) -> float:\n",
        "        \"\"\"Calculate the optimal threshold with regard to F1 score.\"\"\"\n",
        "        assert score_map.shape == gt_mask.squeeze().shape\n",
        "        precision, recall, thresholds = precision_recall_curve(\n",
        "            gt_mask.flatten(), score_map.flatten())\n",
        "        a = 2 * precision * recall\n",
        "        b = precision + recall\n",
        "        f1 = np.divide(a, b, out=np.zeros_like(a), where=(b != 0))\n",
        "        threshold = thresholds[np.argmax(f1)]\n",
        "        return threshold\n",
        "\n",
        "    def calculate_distances(self, embedding_vectors: torch.Tensor) -> FloatNDArray:\n",
        "        \"\"\"Calculate Mahalanobis distance of each embedding vector from self.mean.\n",
        "\n",
        "        For embeddings of shape (N, C, H, W), returns shape (N, H, W).\n",
        "        \"\"\"\n",
        "        B, C, H, W = embedding_vectors.size()\n",
        "        embedding_vectors = embedding_vectors.view(B, C, H * W).numpy()\n",
        "        dist_list: List[List[np.float64]] = []\n",
        "        for i in range(H * W):\n",
        "            mean = self.mean[:, i]\n",
        "            conv_inv = np.linalg.inv(self.cov[:, :, i])\n",
        "            dist = [mahalanobis(sample[:, i], mean, conv_inv)\n",
        "                    for sample in embedding_vectors]\n",
        "            dist_list.append(dist)\n",
        "\n",
        "        return np.array(dist_list).transpose(1, 0).reshape(B, H, W)\n",
        "\n",
        "    def prepare_anomaly_map(self, shape: Tuple[int, int], distances: FloatNDArray) -> FloatNDArray:\n",
        "        \"\"\"Upsample distances to `shape`, apply Gaussian smoothing, and normalize to [0,1].\n",
        "\n",
        "        For distances of shape (N, H, W) and `shape` equal to (H2, W2), returns shape (N, H2, W2).\n",
        "        \"\"\"\n",
        "        dists = torch.Tensor(distances).unsqueeze(1)\n",
        "        shape = (dists.shape[0],) + shape\n",
        "        score_map = cast(FloatNDArray, F.interpolate(\n",
        "            dists, size=shape[2], mode='bilinear', align_corners=False).squeeze().numpy())\n",
        "        for i in range(score_map.shape[0]):\n",
        "            score_map[i] = gaussian_filter(score_map[i], sigma=4)\n",
        "\n",
        "        min_score, max_score = score_map.min(), score_map.max()\n",
        "        return (score_map - min_score) / (max_score - min_score + 1e-10)"
      ]
    },
    {
      "cell_type": "markdown",
      "metadata": {
        "id": "HdPsT_IOUSuu"
      },
      "source": [
        "### Let's see whether it works.\n",
        "Take a look to the `SAVE_PATH` to inspect the results."
      ]
    },
    {
      "cell_type": "code",
      "execution_count": 55,
      "metadata": {
        "id": "vkuevoloUSuu",
        "outputId": "04323ebc-0c0c-479a-adc4-94d4a3a6e8d3",
        "colab": {
          "base_uri": "https://localhost:8080/",
          "height": 475
        }
      },
      "outputs": [
        {
          "output_type": "stream",
          "name": "stdout",
          "text": [
            "========== bottle\n"
          ]
        },
        {
          "output_type": "stream",
          "name": "stderr",
          "text": [
            "Feature extraction (train): 100%|██████████| 105/105 [01:08<00:00,  1.53it/s]\n",
            "Covariance estimation: 100%|██████████| 3136/3136 [00:02<00:00, 1393.15it/s]\n",
            "Feature extraction (test): 100%|██████████| 42/42 [00:12<00:00,  3.32it/s]\n"
          ]
        },
        {
          "output_type": "stream",
          "name": "stdout",
          "text": [
            "[TEST] Image AUROC: 0.998\n",
            "[TEST] Pixel AUROC: 0.981\n"
          ]
        },
        {
          "output_type": "display_data",
          "data": {
            "text/plain": [
              "<Figure size 800x400 with 2 Axes>"
            ],
            "image/png": "[encoded data removed]"
          },
          "metadata": {}
        }
      ],
      "source": [
        "seed_all(SEED)\n",
        "CLASS_NAMES = [\n",
        "            'bottle', #'metal_nut'\n",
        "            # 'cable', 'capsule', 'carpet', 'grid', 'hazelnut', 'leather',\n",
        "            # 'pill', 'screw', 'tile', 'toothbrush', 'transistor', 'wood', 'zipper'\n",
        "        ]\n",
        "BATCH_SIZE = 2\n",
        "RESIZE = 256 * 1\n",
        "CROP_SIZE = 224 * 1\n",
        "BACKBONE = \"resnet18\"\n",
        "NUMBER_OF_BACKBONE_FEATURES = 50\n",
        "MAX_NUMBER_OF_BACKBONE_FEATURES = 448\n",
        "\n",
        "run_timestamp = time.time()\n",
        "for class_name in CLASS_NAMES:\n",
        "    print('=' * 10, class_name)\n",
        "    SAVE_PATH = Path(f\"./results/{run_timestamp}/{class_name}\")\n",
        "\n",
        "    train_dataset = MVTecDataset(DATA_PATH, class_name=class_name, is_train=True, resize=RESIZE, cropsize=CROP_SIZE)\n",
        "    train_dataloader = DataLoader(train_dataset, batch_size=BATCH_SIZE, pin_memory=True)\n",
        "    test_dataset = MVTecDataset(DATA_PATH, class_name=class_name, is_train=False, resize=RESIZE, cropsize=CROP_SIZE)\n",
        "    test_dataloader = DataLoader(test_dataset, batch_size=BATCH_SIZE, pin_memory=True)\n",
        "\n",
        "    padim = PADIM(\n",
        "        backbone=BACKBONE,\n",
        "        device=DEVICE,\n",
        "        backbone_features_idx=sample_idx(NUMBER_OF_BACKBONE_FEATURES, MAX_NUMBER_OF_BACKBONE_FEATURES),\n",
        "        save_path=SAVE_PATH,\n",
        "        plot_metrics=True,\n",
        "    )\n",
        "\n",
        "    padim.train_and_test(\n",
        "        train_dataloader=train_dataloader,\n",
        "        test_dataloader=test_dataloader,\n",
        "    )"
      ]
    },
    {
      "cell_type": "markdown",
      "metadata": {
        "id": "cdtJPrNQUSuw"
      },
      "source": [
        "# Task 1. Finding the right features (40%)\n",
        "\n",
        "The authors of the paper argue that it doesn't really matter how we choose a subset of features. Let's make some steps towards exploring whether it's true for three different classes (`bottle`, `transistor`, `metal_nut`).\n",
        "Design an experiment which will rank the ResNet18 features by its importance. To do so, we'll implement our variation of [permutation feature importance](https://scikit-learn.org/stable/modules/permutation_importance.html#outline-of-the-permutation-importance-algorithm) on a subset of features produced by the backbone.\n",
        "\n",
        "## 1.1 Preparing the data\n",
        "- Using the test dataset, create `val_dataloader` (every even sample from the original test dataset) and `test_dataloader` (every odd sample). `SubsetRandomSampler` might be handy here.\n",
        "- Then, create 3-fold cross validation-like process in which you'll train three PADIM models on the first 100 ResNet features in three equally sized subsets of train dataset in which you discard 1/3 of the data ($\\texttt{padim}_{k}\\texttt{.train}(\\texttt{train\\_dataloader}_k)$) (see below). Again, `SubsetRandomSampler` might be handy here.\n",
        "\n",
        "In other words, you should have:\n",
        "\n",
        "- for $k=0$, the first 10 images indexes from the train dataset we should train on are `[1, 2, 4, 5, 7, 8, 10, 11, 13, 14]`,\n",
        "- for $k=1$, that's `[0, 2, 3, 5, 6, 8, 9, 11, 12, 14]`,\n",
        "- and for $k=2$, that's `[0, 1, 3, 4, 6, 7, 9, 10, 12, 13]`.\n",
        "\n",
        "For val and train, you should have `[0, 2, 4, ...]` and `[1, 3, 5, ...]` respectively (from the test dataset).\n",
        "\n",
        "Don't worry about the sampling order.\n",
        "Use these names for DataLoaders `val_dataloader`, `test_dataloader`. For k-fold training, store dataloaders in `train_dataloaders: List[DataLoader]`, where each element represent different $k$.\n",
        "For each class, store the results in `dataloaders` dictionary (the variable is defined in the code below) - we will use this to check your solution.\n",
        "\n",
        "## 1.2 Calculating the importances\n",
        "- In a given fold, each $j$-th feature shall be ranked based on the pixel-wise AUROC difference between the output of that model ($s_{k} \\leftarrow \\texttt{padim}_{k}\\texttt{.test}(\\texttt{val\\_dataloader})$) and the output with the model with permuted $j$-th feature ($s_{k, j} \\leftarrow \\texttt{padim}_{k}\\texttt{.test\\_permutation\\_importance}(\\texttt{val\\_dataloader, features\\_to\\_permute=}[j])$). In practice you can pass all the numbers of features to permute (instead of 1-element list and do the loop inside the method. See also `test_permutation_importance` method stub above.\n",
        "- Implement `permute_feature` method as follows: given the tensor with embeddings with shape `[B, C, H, W]`, by permutation of the $j$-th feature we mean randomly swapped values for $C=j$. Although (ideally) the order of swapping shall be **different** for every image, we don't require you to strictly guarantee that you won't get the same permutation twice (what matters here is not using the same permutation for **every** sample - you can e.g. use distinct calls to a shuffling function for every sample). In other words, for every image $b$ and feature $j$ you need to shuffle the last two dimensions (marked as stars in `[b, j, *, *]`) in an (ideally) unique manner.\n",
        "- Then, calculate the mean importance $i$ averaged on these folds and plot weights importance for the class ($i_j \\leftarrow \\frac{1}{K} \\sum_{k} ( s_k -  s_{k, j} )$, where $K$ is the number of folds).\n",
        "- Append results in `results` dictionary, where keys are class names and values are the lists of averaged feature importances (from feature 0 to feature 99).\n",
        "\n",
        "## 1.3 Drawing conclusions\n",
        "\n",
        "- Finally, for every class train three models on the full training data and evaluate it on the `test_dataloader`. The first model shall use the first 10 features, the second shall use worst 10 features (in terms of feature importance), and the third shall contain the best 10 features.\n",
        "- Write your conclusions (with the things enlisted below in mind). Simply plotting charts or outputting logs without any comment doesn't qualify as an answer to a question.\n",
        "\n",
        "Note 1: Limit yourself to the first 100 features of ResNet18. If you want, you can go with all of available features instead of 100, but it'll take some time to calculate. Converting parts of the code to PyTorch and running on GPU might change a lot here, but this is not evaluated in this exercise. This experiment can be calculated without GPU in less than one hour anyway.\n",
        "\n",
        "Note 2: If you'd like to be fully covered, one needs to explore if the features are correlated, as this might bias the results of feature importance calculations. However, this is not evaluated in this task for the sake of simplicity (that is, examining the 100 first features without worrying about correlated features are enough to get 100% from this task)."
      ]
    },
    {
      "cell_type": "code",
      "execution_count": 56,
      "metadata": {
        "id": "EnDrT3CnUSuw"
      },
      "outputs": [],
      "source": [
        "# do not modify\n",
        "CLASS_NAMES = ['bottle', 'transistor', 'metal_nut']\n",
        "\n",
        "BATCH_SIZE = 1\n",
        "RESIZE = 256 * 2 // 4\n",
        "CROP_SIZE = 224 * 2 // 4\n",
        "BACKBONE = \"resnet18\"\n",
        "NUMBER_OF_BACKBONE_FEATURES = 10\n",
        "MAX_NUMBER_OF_BACKBONE_FEATURES = 100  # 448\n",
        "folds = 3"
      ]
    },
    {
      "cell_type": "code",
      "source": [
        "seed_all(SEED)\n",
        "results = {c: [0] * MAX_NUMBER_OF_BACKBONE_FEATURES for c in CLASS_NAMES}\n",
        "\n",
        "run_timestamp = time.time()\n",
        "print(f\"{run_timestamp}\")\n",
        "\n",
        "idx_all_fatures = torch.Tensor(range(MAX_NUMBER_OF_BACKBONE_FEATURES)).int()\n",
        "idx_first_n_features = torch.Tensor(range(NUMBER_OF_BACKBONE_FEATURES)).int()\n",
        "\n",
        "dataloaders = {c: {\"val_dataloader\": None, \"test_dataloader\": None, \"train_dataloaders\": None} for c in CLASS_NAMES}\n",
        "\n",
        "# TODO: Your code for T1.1, T1.2, and T1.3 goes below. Don't forget to write `test_permutation_importance` and `permute_feature` above in the PADIM code.\n",
        "\n",
        "\n",
        "# Data loaders for task 1.1\n",
        "\n",
        "for class_name in CLASS_NAMES:\n",
        "    print('CLASS NAME = ', class_name)\n",
        "    #print('=' * 10, class_name)\n",
        "    #SAVE_PATH = Path(f\"./results/{run_timestamp}/{class_name}\")\n",
        "\n",
        "    #train_dataset = MVTecDataset(DATA_PATH, class_name=class_name, is_train=True, resize=RESIZE, cropsize=CROP_SIZE)\n",
        "    #train_dataloader = DataLoader(train_dataset, batch_size=BATCH_SIZE, pin_memory=True)\n",
        "    test_dataset = MVTecDataset(DATA_PATH, class_name=class_name, is_train=False, resize=RESIZE, cropsize=CROP_SIZE)\n",
        "    train_dataset = MVTecDataset(DATA_PATH, class_name=class_name, is_train=True, resize=RESIZE, cropsize=CROP_SIZE)\n",
        "    val_indexes = []\n",
        "    test_indexes = []\n",
        "    for i in range(len(test_dataset)):\n",
        "      if i%2 == 0:\n",
        "        val_indexes.append(i)\n",
        "      else:\n",
        "        test_indexes.append(i)\n",
        "    val_sampler = torch.utils.data.SubsetRandomSampler(val_indexes)\n",
        "    val_dataloader = DataLoader(test_dataset, batch_size=BATCH_SIZE, pin_memory=True, sampler = val_sampler)\n",
        "    test_sampler = torch.utils.data.SubsetRandomSampler(test_indexes)\n",
        "    test_dataloader = DataLoader(test_dataset, batch_size=BATCH_SIZE, pin_memory=True, sampler = test_sampler)\n",
        "    dataloaders[class_name][\"val_dataloader\"] = val_dataloader\n",
        "    dataloaders[class_name][\"test_dataloader\"] = test_dataloader\n",
        "\n",
        "    fold_0_indexes = []\n",
        "    fold_1_indexes = []\n",
        "    fold_2_indexes = []\n",
        "\n",
        "    for i in range(len(train_dataset)):\n",
        "      if i%3 == 0:\n",
        "        fold_1_indexes.append(i)\n",
        "        fold_2_indexes.append(i)\n",
        "      if i%3 == 1:\n",
        "        fold_0_indexes.append(i)\n",
        "        fold_2_indexes.append(i)\n",
        "      if i%3 == 2:\n",
        "        fold_0_indexes.append(i)\n",
        "        fold_1_indexes.append(i)\n",
        "\n",
        "    fold_0_sampler = torch.utils.data.SubsetRandomSampler(fold_0_indexes)\n",
        "    fold_1_sampler = torch.utils.data.SubsetRandomSampler(fold_1_indexes)\n",
        "    fold_2_sampler = torch.utils.data.SubsetRandomSampler(fold_2_indexes)\n",
        "    fold_0_dataloader = DataLoader(train_dataset, batch_size=BATCH_SIZE, pin_memory=True, sampler = fold_0_sampler)\n",
        "    fold_1_dataloader = DataLoader(train_dataset, batch_size=BATCH_SIZE, pin_memory=True, sampler = fold_1_sampler)\n",
        "    fold_2_dataloader = DataLoader(train_dataset, batch_size=BATCH_SIZE, pin_memory=True, sampler = fold_2_sampler)\n",
        "    train_dataloders = [fold_0_dataloader, fold_1_dataloader, fold_2_dataloader]\n",
        "    dataloaders[class_name][\"train_dataloaders\"] = train_dataloders"
      ],
      "metadata": {
        "colab": {
          "base_uri": "https://localhost:8080/"
        },
        "id": "vKJiS4dAQOg1",
        "outputId": "d9e14071-fc2d-4e99-f7dd-58bab76868f8"
      },
      "execution_count": 57,
      "outputs": [
        {
          "output_type": "stream",
          "name": "stdout",
          "text": [
            "1702947078.0633736\n",
            "CLASS NAME =  bottle\n",
            "CLASS NAME =  transistor\n",
            "CLASS NAME =  metal_nut\n"
          ]
        }
      ]
    },
    {
      "cell_type": "code",
      "execution_count": null,
      "metadata": {
        "id": "cb9B4PfAUSuw",
        "colab": {
          "base_uri": "https://localhost:8080/",
          "height": 450
        },
        "outputId": "5d3574d0-dcfa-4565-9ffa-f04f8cde5344"
      },
      "outputs": [
        {
          "output_type": "stream",
          "name": "stdout",
          "text": [
            "1702935925.839321\n",
            "CLASS NAME =  bottle\n"
          ]
        },
        {
          "output_type": "stream",
          "name": "stderr",
          "text": [
            "Feature extraction (train):  54%|█████▍    | 75/139 [00:05<00:04, 13.22it/s]\n"
          ]
        },
        {
          "output_type": "error",
          "ename": "KeyboardInterrupt",
          "evalue": "ignored",
          "traceback": [
            "\u001b[0;31m---------------------------------------------------------------------------\u001b[0m",
            "\u001b[0;31mKeyboardInterrupt\u001b[0m                         Traceback (most recent call last)",
            "\u001b[0;32m<ipython-input-13-5da3c390d105>\u001b[0m in \u001b[0;36m<cell line: 13>\u001b[0;34m()\u001b[0m\n\u001b[1;32m     82\u001b[0m     \u001b[0;31m#print(lst)\u001b[0m\u001b[0;34m\u001b[0m\u001b[0;34m\u001b[0m\u001b[0m\n\u001b[1;32m     83\u001b[0m \u001b[0;34m\u001b[0m\u001b[0m\n\u001b[0;32m---> 84\u001b[0;31m     \u001b[0mpadim_0\u001b[0m\u001b[0;34m.\u001b[0m\u001b[0mtrain\u001b[0m\u001b[0;34m(\u001b[0m\u001b[0mtrain_dataloader\u001b[0m \u001b[0;34m=\u001b[0m \u001b[0mfold_0_dataloader\u001b[0m\u001b[0;34m)\u001b[0m\u001b[0;34m\u001b[0m\u001b[0;34m\u001b[0m\u001b[0m\n\u001b[0m\u001b[1;32m     85\u001b[0m     \u001b[0mpadim_1\u001b[0m\u001b[0;34m.\u001b[0m\u001b[0mtrain\u001b[0m\u001b[0;34m(\u001b[0m\u001b[0mtrain_dataloader\u001b[0m \u001b[0;34m=\u001b[0m \u001b[0mfold_1_dataloader\u001b[0m\u001b[0;34m)\u001b[0m\u001b[0;34m\u001b[0m\u001b[0;34m\u001b[0m\u001b[0m\n\u001b[1;32m     86\u001b[0m     \u001b[0mpadim_2\u001b[0m\u001b[0;34m.\u001b[0m\u001b[0mtrain\u001b[0m\u001b[0;34m(\u001b[0m\u001b[0mtrain_dataloader\u001b[0m \u001b[0;34m=\u001b[0m \u001b[0mfold_2_dataloader\u001b[0m\u001b[0;34m)\u001b[0m\u001b[0;34m\u001b[0m\u001b[0;34m\u001b[0m\u001b[0m\n",
            "\u001b[0;32m<ipython-input-10-688ca09eaad8>\u001b[0m in \u001b[0;36mtrain\u001b[0;34m(self, train_dataloader)\u001b[0m\n\u001b[1;32m     43\u001b[0m     \u001b[0;32mdef\u001b[0m \u001b[0mtrain\u001b[0m\u001b[0;34m(\u001b[0m\u001b[0mself\u001b[0m\u001b[0;34m,\u001b[0m \u001b[0mtrain_dataloader\u001b[0m\u001b[0;34m:\u001b[0m \u001b[0mDataLoader\u001b[0m\u001b[0;34m)\u001b[0m \u001b[0;34m->\u001b[0m \u001b[0;32mNone\u001b[0m\u001b[0;34m:\u001b[0m\u001b[0;34m\u001b[0m\u001b[0;34m\u001b[0m\u001b[0m\n\u001b[1;32m     44\u001b[0m         \u001b[0mself\u001b[0m\u001b[0;34m.\u001b[0m\u001b[0mtrain_outputs\u001b[0m\u001b[0;34m:\u001b[0m \u001b[0mDict\u001b[0m\u001b[0;34m[\u001b[0m\u001b[0mstr\u001b[0m\u001b[0;34m,\u001b[0m \u001b[0mList\u001b[0m\u001b[0;34m[\u001b[0m\u001b[0mtorch\u001b[0m\u001b[0;34m.\u001b[0m\u001b[0mTensor\u001b[0m\u001b[0;34m]\u001b[0m\u001b[0;34m]\u001b[0m \u001b[0;34m=\u001b[0m \u001b[0;34m{\u001b[0m\u001b[0;34m'layer1'\u001b[0m\u001b[0;34m:\u001b[0m \u001b[0;34m[\u001b[0m\u001b[0;34m]\u001b[0m\u001b[0;34m,\u001b[0m \u001b[0;34m'layer2'\u001b[0m\u001b[0;34m:\u001b[0m \u001b[0;34m[\u001b[0m\u001b[0;34m]\u001b[0m\u001b[0;34m,\u001b[0m \u001b[0;34m'layer3'\u001b[0m\u001b[0;34m:\u001b[0m \u001b[0;34m[\u001b[0m\u001b[0;34m]\u001b[0m\u001b[0;34m}\u001b[0m\u001b[0;34m\u001b[0m\u001b[0;34m\u001b[0m\u001b[0m\n\u001b[0;32m---> 45\u001b[0;31m         \u001b[0;32mfor\u001b[0m \u001b[0mx\u001b[0m\u001b[0;34m,\u001b[0m \u001b[0m_\u001b[0m\u001b[0;34m,\u001b[0m \u001b[0m_\u001b[0m \u001b[0;32min\u001b[0m \u001b[0mtqdm\u001b[0m\u001b[0;34m(\u001b[0m\u001b[0mtrain_dataloader\u001b[0m\u001b[0;34m,\u001b[0m \u001b[0mdesc\u001b[0m\u001b[0;34m=\u001b[0m\u001b[0;34m'Feature extraction (train)'\u001b[0m\u001b[0;34m)\u001b[0m\u001b[0;34m:\u001b[0m\u001b[0;34m\u001b[0m\u001b[0;34m\u001b[0m\u001b[0m\n\u001b[0m\u001b[1;32m     46\u001b[0m             \u001b[0;31m# Run model prediction.\u001b[0m\u001b[0;34m\u001b[0m\u001b[0;34m\u001b[0m\u001b[0m\n\u001b[1;32m     47\u001b[0m             \u001b[0;32mwith\u001b[0m \u001b[0mtorch\u001b[0m\u001b[0;34m.\u001b[0m\u001b[0mno_grad\u001b[0m\u001b[0;34m(\u001b[0m\u001b[0;34m)\u001b[0m\u001b[0;34m:\u001b[0m\u001b[0;34m\u001b[0m\u001b[0;34m\u001b[0m\u001b[0m\n",
            "\u001b[0;32m/usr/local/lib/python3.10/dist-packages/tqdm/std.py\u001b[0m in \u001b[0;36m__iter__\u001b[0;34m(self)\u001b[0m\n\u001b[1;32m   1180\u001b[0m \u001b[0;34m\u001b[0m\u001b[0m\n\u001b[1;32m   1181\u001b[0m         \u001b[0;32mtry\u001b[0m\u001b[0;34m:\u001b[0m\u001b[0;34m\u001b[0m\u001b[0;34m\u001b[0m\u001b[0m\n\u001b[0;32m-> 1182\u001b[0;31m             \u001b[0;32mfor\u001b[0m \u001b[0mobj\u001b[0m \u001b[0;32min\u001b[0m \u001b[0miterable\u001b[0m\u001b[0;34m:\u001b[0m\u001b[0;34m\u001b[0m\u001b[0;34m\u001b[0m\u001b[0m\n\u001b[0m\u001b[1;32m   1183\u001b[0m                 \u001b[0;32myield\u001b[0m \u001b[0mobj\u001b[0m\u001b[0;34m\u001b[0m\u001b[0;34m\u001b[0m\u001b[0m\n\u001b[1;32m   1184\u001b[0m                 \u001b[0;31m# Update and possibly print the progressbar.\u001b[0m\u001b[0;34m\u001b[0m\u001b[0;34m\u001b[0m\u001b[0m\n",
            "\u001b[0;32m/usr/local/lib/python3.10/dist-packages/torch/utils/data/dataloader.py\u001b[0m in \u001b[0;36m__next__\u001b[0;34m(self)\u001b[0m\n\u001b[1;32m    628\u001b[0m                 \u001b[0;31m# TODO(https://github.com/pytorch/pytorch/issues/76750)\u001b[0m\u001b[0;34m\u001b[0m\u001b[0;34m\u001b[0m\u001b[0m\n\u001b[1;32m    629\u001b[0m                 \u001b[0mself\u001b[0m\u001b[0;34m.\u001b[0m\u001b[0m_reset\u001b[0m\u001b[0;34m(\u001b[0m\u001b[0;34m)\u001b[0m  \u001b[0;31m# type: ignore[call-arg]\u001b[0m\u001b[0;34m\u001b[0m\u001b[0;34m\u001b[0m\u001b[0m\n\u001b[0;32m--> 630\u001b[0;31m             \u001b[0mdata\u001b[0m \u001b[0;34m=\u001b[0m \u001b[0mself\u001b[0m\u001b[0;34m.\u001b[0m\u001b[0m_next_data\u001b[0m\u001b[0;34m(\u001b[0m\u001b[0;34m)\u001b[0m\u001b[0;34m\u001b[0m\u001b[0;34m\u001b[0m\u001b[0m\n\u001b[0m\u001b[1;32m    631\u001b[0m             \u001b[0mself\u001b[0m\u001b[0;34m.\u001b[0m\u001b[0m_num_yielded\u001b[0m \u001b[0;34m+=\u001b[0m \u001b[0;36m1\u001b[0m\u001b[0;34m\u001b[0m\u001b[0;34m\u001b[0m\u001b[0m\n\u001b[1;32m    632\u001b[0m             \u001b[0;32mif\u001b[0m \u001b[0mself\u001b[0m\u001b[0;34m.\u001b[0m\u001b[0m_dataset_kind\u001b[0m \u001b[0;34m==\u001b[0m \u001b[0m_DatasetKind\u001b[0m\u001b[0;34m.\u001b[0m\u001b[0mIterable\u001b[0m \u001b[0;32mand\u001b[0m\u001b[0;31m \u001b[0m\u001b[0;31m\\\u001b[0m\u001b[0;34m\u001b[0m\u001b[0;34m\u001b[0m\u001b[0m\n",
            "\u001b[0;32m/usr/local/lib/python3.10/dist-packages/torch/utils/data/dataloader.py\u001b[0m in \u001b[0;36m_next_data\u001b[0;34m(self)\u001b[0m\n\u001b[1;32m    672\u001b[0m     \u001b[0;32mdef\u001b[0m \u001b[0m_next_data\u001b[0m\u001b[0;34m(\u001b[0m\u001b[0mself\u001b[0m\u001b[0;34m)\u001b[0m\u001b[0;34m:\u001b[0m\u001b[0;34m\u001b[0m\u001b[0;34m\u001b[0m\u001b[0m\n\u001b[1;32m    673\u001b[0m         \u001b[0mindex\u001b[0m \u001b[0;34m=\u001b[0m \u001b[0mself\u001b[0m\u001b[0;34m.\u001b[0m\u001b[0m_next_index\u001b[0m\u001b[0;34m(\u001b[0m\u001b[0;34m)\u001b[0m  \u001b[0;31m# may raise StopIteration\u001b[0m\u001b[0;34m\u001b[0m\u001b[0;34m\u001b[0m\u001b[0m\n\u001b[0;32m--> 674\u001b[0;31m         \u001b[0mdata\u001b[0m \u001b[0;34m=\u001b[0m \u001b[0mself\u001b[0m\u001b[0;34m.\u001b[0m\u001b[0m_dataset_fetcher\u001b[0m\u001b[0;34m.\u001b[0m\u001b[0mfetch\u001b[0m\u001b[0;34m(\u001b[0m\u001b[0mindex\u001b[0m\u001b[0;34m)\u001b[0m  \u001b[0;31m# may raise StopIteration\u001b[0m\u001b[0;34m\u001b[0m\u001b[0;34m\u001b[0m\u001b[0m\n\u001b[0m\u001b[1;32m    675\u001b[0m         \u001b[0;32mif\u001b[0m \u001b[0mself\u001b[0m\u001b[0;34m.\u001b[0m\u001b[0m_pin_memory\u001b[0m\u001b[0;34m:\u001b[0m\u001b[0;34m\u001b[0m\u001b[0;34m\u001b[0m\u001b[0m\n\u001b[1;32m    676\u001b[0m             \u001b[0mdata\u001b[0m \u001b[0;34m=\u001b[0m \u001b[0m_utils\u001b[0m\u001b[0;34m.\u001b[0m\u001b[0mpin_memory\u001b[0m\u001b[0;34m.\u001b[0m\u001b[0mpin_memory\u001b[0m\u001b[0;34m(\u001b[0m\u001b[0mdata\u001b[0m\u001b[0;34m,\u001b[0m \u001b[0mself\u001b[0m\u001b[0;34m.\u001b[0m\u001b[0m_pin_memory_device\u001b[0m\u001b[0;34m)\u001b[0m\u001b[0;34m\u001b[0m\u001b[0;34m\u001b[0m\u001b[0m\n",
            "\u001b[0;32m/usr/local/lib/python3.10/dist-packages/torch/utils/data/_utils/fetch.py\u001b[0m in \u001b[0;36mfetch\u001b[0;34m(self, possibly_batched_index)\u001b[0m\n\u001b[1;32m     49\u001b[0m                 \u001b[0mdata\u001b[0m \u001b[0;34m=\u001b[0m \u001b[0mself\u001b[0m\u001b[0;34m.\u001b[0m\u001b[0mdataset\u001b[0m\u001b[0;34m.\u001b[0m\u001b[0m__getitems__\u001b[0m\u001b[0;34m(\u001b[0m\u001b[0mpossibly_batched_index\u001b[0m\u001b[0;34m)\u001b[0m\u001b[0;34m\u001b[0m\u001b[0;34m\u001b[0m\u001b[0m\n\u001b[1;32m     50\u001b[0m             \u001b[0;32melse\u001b[0m\u001b[0;34m:\u001b[0m\u001b[0;34m\u001b[0m\u001b[0;34m\u001b[0m\u001b[0m\n\u001b[0;32m---> 51\u001b[0;31m                 \u001b[0mdata\u001b[0m \u001b[0;34m=\u001b[0m \u001b[0;34m[\u001b[0m\u001b[0mself\u001b[0m\u001b[0;34m.\u001b[0m\u001b[0mdataset\u001b[0m\u001b[0;34m[\u001b[0m\u001b[0midx\u001b[0m\u001b[0;34m]\u001b[0m \u001b[0;32mfor\u001b[0m \u001b[0midx\u001b[0m \u001b[0;32min\u001b[0m \u001b[0mpossibly_batched_index\u001b[0m\u001b[0;34m]\u001b[0m\u001b[0;34m\u001b[0m\u001b[0;34m\u001b[0m\u001b[0m\n\u001b[0m\u001b[1;32m     52\u001b[0m         \u001b[0;32melse\u001b[0m\u001b[0;34m:\u001b[0m\u001b[0;34m\u001b[0m\u001b[0;34m\u001b[0m\u001b[0m\n\u001b[1;32m     53\u001b[0m             \u001b[0mdata\u001b[0m \u001b[0;34m=\u001b[0m \u001b[0mself\u001b[0m\u001b[0;34m.\u001b[0m\u001b[0mdataset\u001b[0m\u001b[0;34m[\u001b[0m\u001b[0mpossibly_batched_index\u001b[0m\u001b[0;34m]\u001b[0m\u001b[0;34m\u001b[0m\u001b[0;34m\u001b[0m\u001b[0m\n",
            "\u001b[0;32m/usr/local/lib/python3.10/dist-packages/torch/utils/data/_utils/fetch.py\u001b[0m in \u001b[0;36m<listcomp>\u001b[0;34m(.0)\u001b[0m\n\u001b[1;32m     49\u001b[0m                 \u001b[0mdata\u001b[0m \u001b[0;34m=\u001b[0m \u001b[0mself\u001b[0m\u001b[0;34m.\u001b[0m\u001b[0mdataset\u001b[0m\u001b[0;34m.\u001b[0m\u001b[0m__getitems__\u001b[0m\u001b[0;34m(\u001b[0m\u001b[0mpossibly_batched_index\u001b[0m\u001b[0;34m)\u001b[0m\u001b[0;34m\u001b[0m\u001b[0;34m\u001b[0m\u001b[0m\n\u001b[1;32m     50\u001b[0m             \u001b[0;32melse\u001b[0m\u001b[0;34m:\u001b[0m\u001b[0;34m\u001b[0m\u001b[0;34m\u001b[0m\u001b[0m\n\u001b[0;32m---> 51\u001b[0;31m                 \u001b[0mdata\u001b[0m \u001b[0;34m=\u001b[0m \u001b[0;34m[\u001b[0m\u001b[0mself\u001b[0m\u001b[0;34m.\u001b[0m\u001b[0mdataset\u001b[0m\u001b[0;34m[\u001b[0m\u001b[0midx\u001b[0m\u001b[0;34m]\u001b[0m \u001b[0;32mfor\u001b[0m \u001b[0midx\u001b[0m \u001b[0;32min\u001b[0m \u001b[0mpossibly_batched_index\u001b[0m\u001b[0;34m]\u001b[0m\u001b[0;34m\u001b[0m\u001b[0;34m\u001b[0m\u001b[0m\n\u001b[0m\u001b[1;32m     52\u001b[0m         \u001b[0;32melse\u001b[0m\u001b[0;34m:\u001b[0m\u001b[0;34m\u001b[0m\u001b[0;34m\u001b[0m\u001b[0m\n\u001b[1;32m     53\u001b[0m             \u001b[0mdata\u001b[0m \u001b[0;34m=\u001b[0m \u001b[0mself\u001b[0m\u001b[0;34m.\u001b[0m\u001b[0mdataset\u001b[0m\u001b[0;34m[\u001b[0m\u001b[0mpossibly_batched_index\u001b[0m\u001b[0;34m]\u001b[0m\u001b[0;34m\u001b[0m\u001b[0;34m\u001b[0m\u001b[0m\n",
            "\u001b[0;32m<ipython-input-7-5599fd037d5f>\u001b[0m in \u001b[0;36m__getitem__\u001b[0;34m(self, idx)\u001b[0m\n\u001b[1;32m     41\u001b[0m         \u001b[0mx\u001b[0m\u001b[0;34m,\u001b[0m \u001b[0my\u001b[0m\u001b[0;34m,\u001b[0m \u001b[0mmask\u001b[0m \u001b[0;34m=\u001b[0m \u001b[0mself\u001b[0m\u001b[0;34m.\u001b[0m\u001b[0mx\u001b[0m\u001b[0;34m[\u001b[0m\u001b[0midx\u001b[0m\u001b[0;34m]\u001b[0m\u001b[0;34m,\u001b[0m \u001b[0mself\u001b[0m\u001b[0;34m.\u001b[0m\u001b[0my\u001b[0m\u001b[0;34m[\u001b[0m\u001b[0midx\u001b[0m\u001b[0;34m]\u001b[0m\u001b[0;34m,\u001b[0m \u001b[0mself\u001b[0m\u001b[0;34m.\u001b[0m\u001b[0mmask\u001b[0m\u001b[0;34m[\u001b[0m\u001b[0midx\u001b[0m\u001b[0;34m]\u001b[0m\u001b[0;34m\u001b[0m\u001b[0;34m\u001b[0m\u001b[0m\n\u001b[1;32m     42\u001b[0m \u001b[0;34m\u001b[0m\u001b[0m\n\u001b[0;32m---> 43\u001b[0;31m         \u001b[0mx\u001b[0m \u001b[0;34m=\u001b[0m \u001b[0mImage\u001b[0m\u001b[0;34m.\u001b[0m\u001b[0mopen\u001b[0m\u001b[0;34m(\u001b[0m\u001b[0mx\u001b[0m\u001b[0;34m)\u001b[0m\u001b[0;34m.\u001b[0m\u001b[0mconvert\u001b[0m\u001b[0;34m(\u001b[0m\u001b[0;34m'RGB'\u001b[0m\u001b[0;34m)\u001b[0m\u001b[0;34m\u001b[0m\u001b[0;34m\u001b[0m\u001b[0m\n\u001b[0m\u001b[1;32m     44\u001b[0m         \u001b[0mx\u001b[0m \u001b[0;34m=\u001b[0m \u001b[0mcast\u001b[0m\u001b[0;34m(\u001b[0m\u001b[0mtorch\u001b[0m\u001b[0;34m.\u001b[0m\u001b[0mTensor\u001b[0m\u001b[0;34m,\u001b[0m \u001b[0mself\u001b[0m\u001b[0;34m.\u001b[0m\u001b[0mtransform_x\u001b[0m\u001b[0;34m(\u001b[0m\u001b[0mx\u001b[0m\u001b[0;34m)\u001b[0m\u001b[0;34m)\u001b[0m\u001b[0;34m\u001b[0m\u001b[0;34m\u001b[0m\u001b[0m\n\u001b[1;32m     45\u001b[0m \u001b[0;34m\u001b[0m\u001b[0m\n",
            "\u001b[0;32m/usr/local/lib/python3.10/dist-packages/PIL/Image.py\u001b[0m in \u001b[0;36mconvert\u001b[0;34m(self, mode, matrix, dither, palette, colors)\u001b[0m\n\u001b[1;32m    935\u001b[0m         \"\"\"\n\u001b[1;32m    936\u001b[0m \u001b[0;34m\u001b[0m\u001b[0m\n\u001b[0;32m--> 937\u001b[0;31m         \u001b[0mself\u001b[0m\u001b[0;34m.\u001b[0m\u001b[0mload\u001b[0m\u001b[0;34m(\u001b[0m\u001b[0;34m)\u001b[0m\u001b[0;34m\u001b[0m\u001b[0;34m\u001b[0m\u001b[0m\n\u001b[0m\u001b[1;32m    938\u001b[0m \u001b[0;34m\u001b[0m\u001b[0m\n\u001b[1;32m    939\u001b[0m         \u001b[0mhas_transparency\u001b[0m \u001b[0;34m=\u001b[0m \u001b[0mself\u001b[0m\u001b[0;34m.\u001b[0m\u001b[0minfo\u001b[0m\u001b[0;34m.\u001b[0m\u001b[0mget\u001b[0m\u001b[0;34m(\u001b[0m\u001b[0;34m\"transparency\"\u001b[0m\u001b[0;34m)\u001b[0m \u001b[0;32mis\u001b[0m \u001b[0;32mnot\u001b[0m \u001b[0;32mNone\u001b[0m\u001b[0;34m\u001b[0m\u001b[0;34m\u001b[0m\u001b[0m\n",
            "\u001b[0;32m/usr/local/lib/python3.10/dist-packages/PIL/ImageFile.py\u001b[0m in \u001b[0;36mload\u001b[0;34m(self)\u001b[0m\n\u001b[1;32m    267\u001b[0m \u001b[0;34m\u001b[0m\u001b[0m\n\u001b[1;32m    268\u001b[0m                             \u001b[0mb\u001b[0m \u001b[0;34m=\u001b[0m \u001b[0mb\u001b[0m \u001b[0;34m+\u001b[0m \u001b[0ms\u001b[0m\u001b[0;34m\u001b[0m\u001b[0;34m\u001b[0m\u001b[0m\n\u001b[0;32m--> 269\u001b[0;31m                             \u001b[0mn\u001b[0m\u001b[0;34m,\u001b[0m \u001b[0merr_code\u001b[0m \u001b[0;34m=\u001b[0m \u001b[0mdecoder\u001b[0m\u001b[0;34m.\u001b[0m\u001b[0mdecode\u001b[0m\u001b[0;34m(\u001b[0m\u001b[0mb\u001b[0m\u001b[0;34m)\u001b[0m\u001b[0;34m\u001b[0m\u001b[0;34m\u001b[0m\u001b[0m\n\u001b[0m\u001b[1;32m    270\u001b[0m                             \u001b[0;32mif\u001b[0m \u001b[0mn\u001b[0m \u001b[0;34m<\u001b[0m \u001b[0;36m0\u001b[0m\u001b[0;34m:\u001b[0m\u001b[0;34m\u001b[0m\u001b[0;34m\u001b[0m\u001b[0m\n\u001b[1;32m    271\u001b[0m                                 \u001b[0;32mbreak\u001b[0m\u001b[0;34m\u001b[0m\u001b[0;34m\u001b[0m\u001b[0m\n",
            "\u001b[0;31mKeyboardInterrupt\u001b[0m: "
          ]
        }
      ],
      "source": [
        "#Task 1.2\n",
        "\n",
        "for class_name in CLASS_NAMES:\n",
        "    print('CLASS NAME = ', class_name)\n",
        "\n",
        "    test_dataset = MVTecDataset(DATA_PATH, class_name=class_name, is_train=False, resize=RESIZE, cropsize=CROP_SIZE)\n",
        "    train_dataset = MVTecDataset(DATA_PATH, class_name=class_name, is_train=True, resize=RESIZE, cropsize=CROP_SIZE)\n",
        "    val_indexes = []\n",
        "    test_indexes = []\n",
        "    for i in range(len(test_dataset)):\n",
        "      if i%2 == 0:\n",
        "        val_indexes.append(i)\n",
        "      else:\n",
        "        test_indexes.append(i)\n",
        "    val_sampler = torch.utils.data.SubsetRandomSampler(val_indexes)\n",
        "    val_dataloader = DataLoader(test_dataset, batch_size=BATCH_SIZE, pin_memory=True, sampler = val_sampler)\n",
        "    test_sampler = torch.utils.data.SubsetRandomSampler(test_indexes)\n",
        "    test_dataloader = DataLoader(test_dataset, batch_size=BATCH_SIZE, pin_memory=True, sampler = test_sampler)\n",
        "    dataloaders[class_name][\"val_dataloader\"] = val_dataloader\n",
        "    dataloaders[class_name][\"test_dataloader\"] = test_dataloader\n",
        "\n",
        "    fold_0_indexes = []\n",
        "    fold_1_indexes = []\n",
        "    fold_2_indexes = []\n",
        "\n",
        "    for i in range(len(train_dataset)):\n",
        "      if i%3 == 0:\n",
        "        fold_1_indexes.append(i)\n",
        "        fold_2_indexes.append(i)\n",
        "      if i%3 == 1:\n",
        "        fold_0_indexes.append(i)\n",
        "        fold_2_indexes.append(i)\n",
        "      if i%3 == 2:\n",
        "        fold_0_indexes.append(i)\n",
        "        fold_1_indexes.append(i)\n",
        "\n",
        "    fold_0_sampler = torch.utils.data.SubsetRandomSampler(fold_0_indexes)\n",
        "    fold_1_sampler = torch.utils.data.SubsetRandomSampler(fold_1_indexes)\n",
        "    fold_2_sampler = torch.utils.data.SubsetRandomSampler(fold_2_indexes)\n",
        "    fold_0_dataloader = DataLoader(train_dataset, batch_size=BATCH_SIZE, pin_memory=True, sampler = fold_0_sampler)\n",
        "    fold_1_dataloader = DataLoader(train_dataset, batch_size=BATCH_SIZE, pin_memory=True, sampler = fold_1_sampler)\n",
        "    fold_2_dataloader = DataLoader(train_dataset, batch_size=BATCH_SIZE, pin_memory=True, sampler = fold_2_sampler)\n",
        "    train_dataloders = [fold_0_dataloader, fold_1_dataloader, fold_2_dataloader]\n",
        "    dataloaders[class_name][\"train_dataloaders\"] = train_dataloders\n",
        "    #print(len(dataloaders[class_name][\"train_dataloaders\"]))\n",
        "\n",
        "    #Task 1.2\n",
        "    padim_0 = PADIM(\n",
        "        backbone=BACKBONE,\n",
        "        device=DEVICE,\n",
        "        backbone_features_idx=torch.tensor(range(MAX_NUMBER_OF_BACKBONE_FEATURES)),\n",
        "        save_path=SAVE_PATH,\n",
        "        plot_metrics=False,)\n",
        "    padim_1 = PADIM(\n",
        "        backbone=BACKBONE,\n",
        "        device=DEVICE,\n",
        "        backbone_features_idx=torch.tensor(range(MAX_NUMBER_OF_BACKBONE_FEATURES)),\n",
        "        save_path=SAVE_PATH,\n",
        "        plot_metrics=False,)\n",
        "    padim_2 = PADIM(\n",
        "        backbone=BACKBONE,\n",
        "        device=DEVICE,\n",
        "        backbone_features_idx=torch.tensor(range(MAX_NUMBER_OF_BACKBONE_FEATURES)),\n",
        "        save_path=SAVE_PATH,\n",
        "        plot_metrics=False,)\n",
        "\n",
        "    lst = range(100)\n",
        "\n",
        "\n",
        "    padim_0.train(train_dataloader = fold_0_dataloader)\n",
        "    padim_1.train(train_dataloader = fold_1_dataloader)\n",
        "    padim_2.train(train_dataloader = fold_2_dataloader)\n",
        "\n",
        "    s0 = padim_0.test(val_dataloader)\n",
        "    s1 = padim_1.test(val_dataloader)\n",
        "    s2 = padim_2.test(val_dataloader)\n",
        "\n",
        "    r0 = padim_0.test_permutation_importance(val_dataloader, lst)\n",
        "    r1 = padim_1.test_permutation_importance(val_dataloader, lst)\n",
        "    r2 = padim_2.test_permutation_importance(val_dataloader, lst)\n",
        "    feature_importances_list = []\n",
        "    for a, b, c in zip(r0, r1, r2):\n",
        "      feature_importances_list.append((s0 - a + s1 - b + s2 - c)/3)\n",
        "    results[class_name] = feature_importances_list\n",
        "    print(feature_importances_list)"
      ]
    },
    {
      "cell_type": "markdown",
      "source": [
        "Colab has deleted the results of my calculations, so I paste them here from an earlier version."
      ],
      "metadata": {
        "id": "-pGZYH5XM_yy"
      }
    },
    {
      "cell_type": "code",
      "source": [
        "results['bottle'] = [0.000191622558776805, 0.0004815440324949701, 1.3234159597937575e-05, 0.0010294835711466277, 0.00023940021607800807, 0.00022575076488233017, 0.00015909697770544184, 0.0002822931695400192, 0.00048811057323394635, 0.00015757410805750105, 0.0024502307533298406, 0.0012722739095760345, 0.0006876225100690414, 0.0008719354015675659, 0.0016322923989724087, 0.00026851125817728416, 0.0002587347094736477, 0.0005836075388024146, 0.0005603330306553911, 0.00036667268747581083, 0.00047928185767594683, 0.0019657749802876046, 0.0005539794663987166, 0.00040181190891393676, 0.00012524622635682695, 0.0014078818640706665, 0.0011978446077393807, 0.00042247264290447745, 0.000916686384605477, 0.0002768674285067811, 0.0006624875724933569, 0.0004519073891884699, 0.0002457895941655834, 0.00011163742214511292, 0.00024854739293659706, 3.660516356770079e-05, 0.0007050410513096775, 0.0003849108495180831, 0.0005871493201431802, 0.0005004665037787367, 0.0003007440906563537, 0.0007836391482885693, 0.0008386926742445974, 0.0015970467060168285, 0.005969254047638557, 0.00041432154710300634, 0.0008618898435818941, 0.00038109905547256684, 0.0005822431263331115, 0.0009850234301977585, 0.001095203272069652, 0.004422075103461043, 0.0003235167787157452, 0.00040435957423382945, 0.0002606802124292355, 0.00047339684168038837, 0.0005933002515338867, 0.0018115411579172624, 0.0006660939658984141, 0.00043702196363763307, 0.002471504269242364, 0.00040351991006241467, -0.00027653848980021173, 0.0004118452502273791, 0.00017998572279605737, 5.493532275402391e-05, 0.0001247448996187043, -2.473847687867181e-05, 0.0001131973264550205, 0.00034812623215022914, 0.00011210428967300956, 0.0005894388716799481, 0.0013829971801330905, -4.533487474611686e-05, 0.00016249480968844043, 0.00011851980692367814, 8.739506256808897e-05, 0.0002471229256146475, 0.0004837288016092585, 0.0002944336234075677, 0.0005073620835667203, 0.0003037991785076466, 0.00045908423673982995, 0.0003348888448756841, -3.6065439186216963e-06, 0.00013743452676658516, 0.00013912584601157482, 0.002534088926243294, 0.00020091088377131397, 0.0005827328551764414, 0.00017228834132236118, -1.769354597365898e-05, 0.0004616556413700919, 0.00031358106207572217, 0.0012235979213189863, 0.005985199957264431, 7.240946197772935e-05, 0.0007107785223491684, 8.859677839760198e-05, 2.38899407774736e-05]\n",
        "results['transistor'] = [0.00038017849354099464, -3.796649252429951e-05, 0.002048790293904257, 0.0026002991445246426, 0.00209775681486161, 0.003532665953959772, -0.000680499738485644, 0.0032717312939810985, 0.003770979350275927, 0.0006715065339624552, 0.00048616395990945066, 0.0021747727376854784, 0.0024626300545394684, -0.0010413354228662557, 0.0018620833408266035, -0.00020971817409398685, 0.0011649514213318464, 0.0007703210516539771, 0.001471956111582462, -0.001178030054613699, 0.002583315628182703, 0.0006327128895342963, 0.0021147615180990473, 0.0008139327438449288, 0.0001149451974981434, 0.0002607266598079934, 5.881888809936934e-05, 0.00057537943171726, 0.00329494402818975, 0.002977347382130846, 0.0023612854982756706, -0.0003600450701811697, 0.0007676628751474383, 0.0005834432943154777, 0.0011913411001672387, 2.6603924637343585e-07, 0.0006896869526611393, 0.0006865170288903691, 0.0009372425964245812, 0.0009573738403938122, 0.003625676659147333, -0.0020359926557548627, 0.00015327952436653783, 0.00042087936811230353, -0.0005513898690523803, -0.0005995911679058293, 0.0026880522451738407, -0.0008970956308201883, 0.000804908384273606, 0.0008780359815558544, 0.0007140466826421518, 0.00016966790615317398, 0.0010758621786631413, 0.0006421667353411209, -0.0006964365695344421, -0.0008205258248842329, 0.0016636829766578283, 0.00019206590659677966, 0.0015565061149166077, -0.0002732839506558819, 0.0008396628571450219, -1.6092789124770118e-05, 0.00100187968246912, 0.0002256809091758146, 0.0006127887242484512, 0.004965099919549447, 0.0007198348298612286, 0.0028963885173570367, 0.00021583509483258378, 0.0013070425828046368, 0.0004624126748562866, -0.0006755577579887392, 0.0023774265704118447, 3.173733316463867e-05, 0.0010961211290765698, 2.5376598576635583e-05, -0.0004448269226559794, 0.0007789966063260397, 0.0010619438071304648, 0.00045776171615160194, 0.00036523178601466366, 0.00018250356662563583, 0.00018289377994810488, 0.0019915909417490183, -6.541865357904501e-06, 0.005478917597586008, 0.00040279806781003585, 0.007776431739861793, 0.0012315147669645181, 0.0022683847426173687, 0.0015042298527677689, 0.000707773489351804, -0.0006241096204249175, 7.500100298918344e-05, 0.0005398492566518106, -0.0004034999120623439, 0.0004725152111850391, -0.00011158116900082209, -0.0009168041022473705, 0.002495042538076938]\n",
        "results['metal_nut'] = [0.002027749095657357, 0.0020128111044300048, 0.003365064037814558, 0.005527120145900029, 0.0050065994140626735, 0.0007407300149149624, 0.0015540619893038565, 0.00170257485417169, 0.005248808707983166, 0.0010271312019452343, 0.0018873541448596691, 0.0031194069469124472, 0.0021574378531414493, 0.0006804653972580418, 0.01029438690151178, 0.0009221427990060427, 0.0010648738852654382, 0.001886182038375539, 0.0015163427780316614, 0.0020383965800825354, 0.0037653263421876617, 0.0015264756735091645, 0.002601960080289789, 0.0005998921796127599, 0.0004724421472144617, 0.0023878563364909677, 0.006398143838234967, 0.0006693293024869021, 0.0019399101971651067, 0.0024690909015464557, 0.002614245047144137, 0.000888968154505195, 0.001853676496091435, 0.0017633372328463848, 0.0006579372390637106, 0.0004780275240910588, 0.003423267815640877, 0.002781904716907239, 0.0011352800712753537, 0.0017463649607498688, 0.001998455539196605, 0.0005768113563707397, 0.0010255537217060222, 0.002820446530537183, 0.0016292781841087771, 0.0006171393195752254, 0.002835535595401469, 0.0015740965119159789, 0.0011286571388107551, 0.0027443669706091653, 0.0022111563484415266, 0.0023908165962917747, 0.0021841888887204806, 0.00029015783043813875, 0.0011902897993953943, 0.0010086759731963528, 0.00153916903348994, 0.005650127574724865, 0.0022189352223710803, 0.0012934737714289657, 0.001382393744983094, 0.0028679582663209877, 0.0013440429897733457, 0.0024152204345527415, 0.0005292237185419527, 0.0020476153514760176, 0.001665745209262474, 0.0005981448841202441, 0.0002496599043887808, 0.0002578954713816639, 0.0005261174107190255, 0.0006904162974327536, 0.0015426623136624389, 0.00030468336351948305, 0.0007275444023307301, 0.0007781733201775257, 0.00015922425390180184, 0.0009074077835852234, 0.000511347183473602, 3.913856100024038e-05, 0.0029208591173364162, 0.0011640953613014648, 0.0023603385056440627, 0.0050390662673669056, 0.0006921479507300635, 0.00134146498940102, 0.000864450410644387, 0.008189705279748863, 0.0015568054597362064, 0.004763372546939371, 0.00034535879208674736, 0.0004085473645422851, 0.0014679009032377104, 0.0010287566469134497, 0.0007344879260012446, 0.0062275435683563085, 0.0024736520485943623, 0.0003983864617056465, 0.0005874330448072026, 0.00014412562310835617]"
      ],
      "metadata": {
        "id": "8PBNCyqIrf0U"
      },
      "execution_count": 58,
      "outputs": []
    },
    {
      "cell_type": "code",
      "source": [
        "#Task 1.2 continuation\n",
        "fig, (ax1, ax2, ax3) = plt.subplots(1, 3, figsize=(20, 5))\n",
        "ax1.plot(results['bottle'], 'ro')\n",
        "ax2.plot(results['transistor'], 'ro')\n",
        "ax3.plot(results['metal_nut'], 'ro')\n",
        "ax1.set_xlabel('Weight idx')\n",
        "ax1.set_ylabel('Importance')\n",
        "ax1.set_title('Bottle')\n",
        "ax2.set_xlabel('Weight idx')\n",
        "ax2.set_ylabel('Importance')\n",
        "ax2.set_title('Transistor')\n",
        "ax3.set_xlabel('Weight idx')\n",
        "ax3.set_ylabel('Importance')\n",
        "ax3.set_title('Metal nut')\n",
        "fig.show()"
      ],
      "metadata": {
        "colab": {
          "base_uri": "https://localhost:8080/",
          "height": 348
        },
        "id": "kmtPoc022c02",
        "outputId": "3a25c839-56b4-4122-9325-1ca4a0e7d7aa"
      },
      "execution_count": null,
      "outputs": [
        {
          "output_type": "display_data",
          "data": {
            "text/plain": [
              "<Figure size 2000x500 with 3 Axes>"
            ],
            "image/png": "[encoded data removed]"
          },
          "metadata": {}
        }
      ]
    },
    {
      "cell_type": "code",
      "source": [
        "# Task 1.3\n",
        "best_results = []\n",
        "worst_results = []\n",
        "first_results = []\n",
        "for c in CLASS_NAMES:\n",
        "    train_dataset = MVTecDataset(DATA_PATH, class_name=c, is_train=True, resize=RESIZE, cropsize=CROP_SIZE)\n",
        "    train_dataloader = DataLoader(train_dataset, batch_size=BATCH_SIZE, pin_memory=True)\n",
        "    test_dataloader = dataloaders[c][\"test_dataloader\"]\n",
        "\n",
        "    best_features = np.sort(np.argsort(np.array(results[c]))[-10:][::-1])\n",
        "    worst_features = np.sort(np.argsort(np.array(results[c]))[:10])\n",
        "    first_10_features = range(10)\n",
        "    padim_best = PADIM(\n",
        "        backbone=BACKBONE,\n",
        "        device=DEVICE,\n",
        "        backbone_features_idx=torch.tensor(best_features),\n",
        "        save_path=SAVE_PATH,\n",
        "        plot_metrics=False,)\n",
        "    padim_worst = PADIM(\n",
        "        backbone=BACKBONE,\n",
        "        device=DEVICE,\n",
        "        backbone_features_idx=torch.tensor(worst_features),\n",
        "        save_path=SAVE_PATH,\n",
        "        plot_metrics=False,)\n",
        "    padim_first = PADIM(\n",
        "        backbone=BACKBONE,\n",
        "        device=DEVICE,\n",
        "        backbone_features_idx=torch.tensor(first_10_features),\n",
        "        save_path=SAVE_PATH,\n",
        "        plot_metrics=False,)\n",
        "    padim_best.train(train_dataloader)\n",
        "    padim_worst.train(train_dataloader)\n",
        "    padim_first.train(train_dataloader)\n",
        "    best_results.append(padim_best.test(test_dataloader))\n",
        "    worst_results.append(padim_worst.test(test_dataloader))\n",
        "    first_results.append(padim_first.test(test_dataloader))\n"
      ],
      "metadata": {
        "colab": {
          "base_uri": "https://localhost:8080/"
        },
        "id": "UohGqWCAsprp",
        "outputId": "d378481f-89ff-4ef4-8e3d-c7a3619ff327"
      },
      "execution_count": 60,
      "outputs": [
        {
          "output_type": "stream",
          "name": "stderr",
          "text": [
            "Feature extraction (train): 100%|██████████| 209/209 [00:19<00:00, 10.75it/s]\n",
            "Covariance estimation: 100%|██████████| 784/784 [00:00<00:00, 5446.11it/s]\n",
            "Feature extraction (train): 100%|██████████| 209/209 [00:19<00:00, 10.67it/s]\n",
            "Covariance estimation: 100%|██████████| 784/784 [00:00<00:00, 5233.14it/s]\n",
            "Feature extraction (train): 100%|██████████| 209/209 [00:18<00:00, 11.47it/s]\n",
            "Covariance estimation: 100%|██████████| 784/784 [00:00<00:00, 5176.70it/s]\n",
            "Feature extraction (test): 100%|██████████| 41/41 [00:03<00:00, 12.81it/s]\n",
            "Feature extraction (test): 100%|██████████| 41/41 [00:03<00:00, 12.72it/s]\n",
            "Feature extraction (test): 100%|██████████| 41/41 [00:04<00:00,  9.86it/s]\n",
            "Feature extraction (train): 100%|██████████| 213/213 [00:24<00:00,  8.87it/s]\n",
            "Covariance estimation: 100%|██████████| 784/784 [00:00<00:00, 7329.43it/s]\n",
            "Feature extraction (train): 100%|██████████| 213/213 [00:23<00:00,  9.24it/s]\n",
            "Covariance estimation: 100%|██████████| 784/784 [00:00<00:00, 5069.25it/s]\n",
            "Feature extraction (train): 100%|██████████| 213/213 [00:22<00:00,  9.33it/s]\n",
            "Covariance estimation: 100%|██████████| 784/784 [00:00<00:00, 4026.24it/s]\n",
            "Feature extraction (test): 100%|██████████| 50/50 [00:06<00:00,  8.30it/s]\n",
            "Feature extraction (test): 100%|██████████| 50/50 [00:05<00:00,  9.62it/s]\n",
            "Feature extraction (test): 100%|██████████| 50/50 [00:05<00:00,  8.86it/s]\n",
            "Feature extraction (train): 100%|██████████| 220/220 [00:15<00:00, 14.28it/s]\n",
            "Covariance estimation: 100%|██████████| 784/784 [00:00<00:00, 5240.45it/s]\n",
            "Feature extraction (train): 100%|██████████| 220/220 [00:23<00:00,  9.38it/s]\n",
            "Covariance estimation: 100%|██████████| 784/784 [00:00<00:00, 5674.05it/s]\n",
            "Feature extraction (train): 100%|██████████| 220/220 [00:15<00:00, 14.29it/s]\n",
            "Covariance estimation: 100%|██████████| 784/784 [00:00<00:00, 5481.38it/s]\n",
            "Feature extraction (test): 100%|██████████| 57/57 [00:04<00:00, 13.57it/s]\n",
            "Feature extraction (test): 100%|██████████| 57/57 [00:03<00:00, 14.99it/s]\n",
            "Feature extraction (test): 100%|██████████| 57/57 [00:03<00:00, 14.98it/s]\n"
          ]
        }
      ]
    },
    {
      "cell_type": "code",
      "source": [
        "print('Classes: Bottle, Transistor, Metal Nut')\n",
        "print('Results for models trained on the best features: ', best_results)\n",
        "print('Results for models trained on the worst features: ', worst_results)\n",
        "print('Results for models trained on the first 10 features: ', first_results)\n",
        "print('mean best: ', np.mean(np.array(best_results)) )\n",
        "print('mean worst: ', np.mean(np.array(worst_results)) )\n",
        "print('mean first: ', np.mean(np.array(first_results)) )"
      ],
      "metadata": {
        "colab": {
          "base_uri": "https://localhost:8080/"
        },
        "id": "JJ-jRsj5tsof",
        "outputId": "80f8688e-b465-4fde-8bb7-2bdbd2a0eb1d"
      },
      "execution_count": 61,
      "outputs": [
        {
          "output_type": "stream",
          "name": "stdout",
          "text": [
            "Classes: Bottle, Transistor, Metal Nut\n",
            "Results for models trained on the best features:  [0.9769819978827435, 0.9550489810132194, 0.9205818388543504]\n",
            "Results for models trained on the worst features:  [0.9559114151433918, 0.941418417312982, 0.8916951822919511]\n",
            "Results for models trained on the first 10 features:  [0.9696239539684349, 0.9561341961206908, 0.9384783352907186]\n",
            "mean best:  0.9508709392501045\n",
            "mean worst:  0.9296750049161083\n",
            "mean first:  0.9547454951266148\n"
          ]
        }
      ]
    },
    {
      "cell_type": "markdown",
      "source": [
        "Task 1.3: The authors claim seems to be true. Difference between mean results across classes between models trained on worst and best features is very small. Difrence between models trained on best features and 10 first features is even smaller. The fact that models trained on 10 first features in some cases outperformed models trained on 10 best features gives even more credibility to the claim that we could choose the features at random."
      ],
      "metadata": {
        "id": "lbe7Yv8fOAqi"
      }
    },
    {
      "cell_type": "code",
      "execution_count": 62,
      "metadata": {
        "id": "zA6Gjp4vUSux",
        "colab": {
          "base_uri": "https://localhost:8080/"
        },
        "outputId": "5dba0628-3b11-44f8-8f52-0970eea3cf60"
      },
      "outputs": [
        {
          "output_type": "stream",
          "name": "stdout",
          "text": [
            "[95, 44, 51, 87, 60, 10, 21, 57, 14, 43]\n",
            "[62, 73, 67, 91, 84, 2, 99, 35, 65, 96]\n",
            "[87, 85, 65, 8, 40, 5, 28, 7, 29, 67]\n",
            "[41, 19, 13, 98, 47, 55, 54, 6, 71, 92]\n",
            "[14, 87, 26, 95, 57, 3, 8, 83, 4, 89]\n",
            "[79, 99, 76, 68, 69, 53, 73, 90, 97, 91]\n",
            "[0, 2, 4, 6, 8, 10, 12, 14, 16, 18, 20, 22, 24, 26, 28, 30, 32, 34, 36, 38, 40, 42, 44, 46, 48, 50, 52, 54, 56, 58, 60, 62, 64, 66, 68, 70, 72, 74, 76, 78, 80, 82]\n",
            "[1, 3, 5, 7, 9, 11, 13, 15, 17, 19, 21, 23, 25, 27, 29, 31, 33, 35, 37, 39, 41, 43, 45, 47, 49, 51, 53, 55, 57, 59, 61, 63, 65, 67, 69, 71, 73, 75, 77, 79, 81]\n",
            "[1, 2, 4, 5, 7, 8, 10, 11, 13, 14, 16, 17, 19, 20, 22, 23, 25, 26, 28, 29, 31, 32, 34, 35, 37, 38, 40, 41, 43, 44, 46, 47, 49, 50, 52, 53, 55, 56, 58, 59, 61, 62, 64, 65, 67, 68, 70, 71, 73, 74, 76, 77, 79, 80, 82, 83, 85, 86, 88, 89, 91, 92, 94, 95, 97, 98, 100, 101, 103, 104, 106, 107, 109, 110, 112, 113, 115, 116, 118, 119, 121, 122, 124, 125, 127, 128, 130, 131, 133, 134, 136, 137, 139, 140, 142, 143, 145, 146, 148, 149, 151, 152, 154, 155, 157, 158, 160, 161, 163, 164, 166, 167, 169, 170, 172, 173, 175, 176, 178, 179, 181, 182, 184, 185, 187, 188, 190, 191, 193, 194, 196, 197, 199, 200, 202, 203, 205, 206, 208]\n",
            "[0, 2, 3, 5, 6, 8, 9, 11, 12, 14, 15, 17, 18, 20, 21, 23, 24, 26, 27, 29, 30, 32, 33, 35, 36, 38, 39, 41, 42, 44, 45, 47, 48, 50, 51, 53, 54, 56, 57, 59, 60, 62, 63, 65, 66, 68, 69, 71, 72, 74, 75, 77, 78, 80, 81, 83, 84, 86, 87, 89, 90, 92, 93, 95, 96, 98, 99, 101, 102, 104, 105, 107, 108, 110, 111, 113, 114, 116, 117, 119, 120, 122, 123, 125, 126, 128, 129, 131, 132, 134, 135, 137, 138, 140, 141, 143, 144, 146, 147, 149, 150, 152, 153, 155, 156, 158, 159, 161, 162, 164, 165, 167, 168, 170, 171, 173, 174, 176, 177, 179, 180, 182, 183, 185, 186, 188, 189, 191, 192, 194, 195, 197, 198, 200, 201, 203, 204, 206, 207]\n",
            "[0, 1, 3, 4, 6, 7, 9, 10, 12, 13, 15, 16, 18, 19, 21, 22, 24, 25, 27, 28, 30, 31, 33, 34, 36, 37, 39, 40, 42, 43, 45, 46, 48, 49, 51, 52, 54, 55, 57, 58, 60, 61, 63, 64, 66, 67, 69, 70, 72, 73, 75, 76, 78, 79, 81, 82, 84, 85, 87, 88, 90, 91, 93, 94, 96, 97, 99, 100, 102, 103, 105, 106, 108, 109, 111, 112, 114, 115, 117, 118, 120, 121, 123, 124, 126, 127, 129, 130, 132, 133, 135, 136, 138, 139, 141, 142, 144, 145, 147, 148, 150, 151, 153, 154, 156, 157, 159, 160, 162, 163, 165, 166, 168, 169, 171, 172, 174, 175, 177, 178, 180, 181, 183, 184, 186, 187, 189, 190, 192, 193, 195, 196, 198, 199, 201, 202, 204, 205, 207, 208]\n",
            "[0, 2, 4, 6, 8, 10, 12, 14, 16, 18, 20, 22, 24, 26, 28, 30, 32, 34, 36, 38, 40, 42, 44, 46, 48, 50, 52, 54, 56, 58, 60, 62, 64, 66, 68, 70, 72, 74, 76, 78, 80, 82, 84, 86, 88, 90, 92, 94, 96, 98]\n",
            "[1, 3, 5, 7, 9, 11, 13, 15, 17, 19, 21, 23, 25, 27, 29, 31, 33, 35, 37, 39, 41, 43, 45, 47, 49, 51, 53, 55, 57, 59, 61, 63, 65, 67, 69, 71, 73, 75, 77, 79, 81, 83, 85, 87, 89, 91, 93, 95, 97, 99]\n",
            "[1, 2, 4, 5, 7, 8, 10, 11, 13, 14, 16, 17, 19, 20, 22, 23, 25, 26, 28, 29, 31, 32, 34, 35, 37, 38, 40, 41, 43, 44, 46, 47, 49, 50, 52, 53, 55, 56, 58, 59, 61, 62, 64, 65, 67, 68, 70, 71, 73, 74, 76, 77, 79, 80, 82, 83, 85, 86, 88, 89, 91, 92, 94, 95, 97, 98, 100, 101, 103, 104, 106, 107, 109, 110, 112, 113, 115, 116, 118, 119, 121, 122, 124, 125, 127, 128, 130, 131, 133, 134, 136, 137, 139, 140, 142, 143, 145, 146, 148, 149, 151, 152, 154, 155, 157, 158, 160, 161, 163, 164, 166, 167, 169, 170, 172, 173, 175, 176, 178, 179, 181, 182, 184, 185, 187, 188, 190, 191, 193, 194, 196, 197, 199, 200, 202, 203, 205, 206, 208, 209, 211, 212]\n",
            "[0, 2, 3, 5, 6, 8, 9, 11, 12, 14, 15, 17, 18, 20, 21, 23, 24, 26, 27, 29, 30, 32, 33, 35, 36, 38, 39, 41, 42, 44, 45, 47, 48, 50, 51, 53, 54, 56, 57, 59, 60, 62, 63, 65, 66, 68, 69, 71, 72, 74, 75, 77, 78, 80, 81, 83, 84, 86, 87, 89, 90, 92, 93, 95, 96, 98, 99, 101, 102, 104, 105, 107, 108, 110, 111, 113, 114, 116, 117, 119, 120, 122, 123, 125, 126, 128, 129, 131, 132, 134, 135, 137, 138, 140, 141, 143, 144, 146, 147, 149, 150, 152, 153, 155, 156, 158, 159, 161, 162, 164, 165, 167, 168, 170, 171, 173, 174, 176, 177, 179, 180, 182, 183, 185, 186, 188, 189, 191, 192, 194, 195, 197, 198, 200, 201, 203, 204, 206, 207, 209, 210, 212]\n",
            "[0, 1, 3, 4, 6, 7, 9, 10, 12, 13, 15, 16, 18, 19, 21, 22, 24, 25, 27, 28, 30, 31, 33, 34, 36, 37, 39, 40, 42, 43, 45, 46, 48, 49, 51, 52, 54, 55, 57, 58, 60, 61, 63, 64, 66, 67, 69, 70, 72, 73, 75, 76, 78, 79, 81, 82, 84, 85, 87, 88, 90, 91, 93, 94, 96, 97, 99, 100, 102, 103, 105, 106, 108, 109, 111, 112, 114, 115, 117, 118, 120, 121, 123, 124, 126, 127, 129, 130, 132, 133, 135, 136, 138, 139, 141, 142, 144, 145, 147, 148, 150, 151, 153, 154, 156, 157, 159, 160, 162, 163, 165, 166, 168, 169, 171, 172, 174, 175, 177, 178, 180, 181, 183, 184, 186, 187, 189, 190, 192, 193, 195, 196, 198, 199, 201, 202, 204, 205, 207, 208, 210, 211]\n",
            "[0, 2, 4, 6, 8, 10, 12, 14, 16, 18, 20, 22, 24, 26, 28, 30, 32, 34, 36, 38, 40, 42, 44, 46, 48, 50, 52, 54, 56, 58, 60, 62, 64, 66, 68, 70, 72, 74, 76, 78, 80, 82, 84, 86, 88, 90, 92, 94, 96, 98, 100, 102, 104, 106, 108, 110, 112, 114]\n",
            "[1, 3, 5, 7, 9, 11, 13, 15, 17, 19, 21, 23, 25, 27, 29, 31, 33, 35, 37, 39, 41, 43, 45, 47, 49, 51, 53, 55, 57, 59, 61, 63, 65, 67, 69, 71, 73, 75, 77, 79, 81, 83, 85, 87, 89, 91, 93, 95, 97, 99, 101, 103, 105, 107, 109, 111, 113]\n",
            "[1, 2, 4, 5, 7, 8, 10, 11, 13, 14, 16, 17, 19, 20, 22, 23, 25, 26, 28, 29, 31, 32, 34, 35, 37, 38, 40, 41, 43, 44, 46, 47, 49, 50, 52, 53, 55, 56, 58, 59, 61, 62, 64, 65, 67, 68, 70, 71, 73, 74, 76, 77, 79, 80, 82, 83, 85, 86, 88, 89, 91, 92, 94, 95, 97, 98, 100, 101, 103, 104, 106, 107, 109, 110, 112, 113, 115, 116, 118, 119, 121, 122, 124, 125, 127, 128, 130, 131, 133, 134, 136, 137, 139, 140, 142, 143, 145, 146, 148, 149, 151, 152, 154, 155, 157, 158, 160, 161, 163, 164, 166, 167, 169, 170, 172, 173, 175, 176, 178, 179, 181, 182, 184, 185, 187, 188, 190, 191, 193, 194, 196, 197, 199, 200, 202, 203, 205, 206, 208, 209, 211, 212, 214, 215, 217, 218]\n",
            "[0, 2, 3, 5, 6, 8, 9, 11, 12, 14, 15, 17, 18, 20, 21, 23, 24, 26, 27, 29, 30, 32, 33, 35, 36, 38, 39, 41, 42, 44, 45, 47, 48, 50, 51, 53, 54, 56, 57, 59, 60, 62, 63, 65, 66, 68, 69, 71, 72, 74, 75, 77, 78, 80, 81, 83, 84, 86, 87, 89, 90, 92, 93, 95, 96, 98, 99, 101, 102, 104, 105, 107, 108, 110, 111, 113, 114, 116, 117, 119, 120, 122, 123, 125, 126, 128, 129, 131, 132, 134, 135, 137, 138, 140, 141, 143, 144, 146, 147, 149, 150, 152, 153, 155, 156, 158, 159, 161, 162, 164, 165, 167, 168, 170, 171, 173, 174, 176, 177, 179, 180, 182, 183, 185, 186, 188, 189, 191, 192, 194, 195, 197, 198, 200, 201, 203, 204, 206, 207, 209, 210, 212, 213, 215, 216, 218, 219]\n",
            "[0, 1, 3, 4, 6, 7, 9, 10, 12, 13, 15, 16, 18, 19, 21, 22, 24, 25, 27, 28, 30, 31, 33, 34, 36, 37, 39, 40, 42, 43, 45, 46, 48, 49, 51, 52, 54, 55, 57, 58, 60, 61, 63, 64, 66, 67, 69, 70, 72, 73, 75, 76, 78, 79, 81, 82, 84, 85, 87, 88, 90, 91, 93, 94, 96, 97, 99, 100, 102, 103, 105, 106, 108, 109, 111, 112, 114, 115, 117, 118, 120, 121, 123, 124, 126, 127, 129, 130, 132, 133, 135, 136, 138, 139, 141, 142, 144, 145, 147, 148, 150, 151, 153, 154, 156, 157, 159, 160, 162, 163, 165, 166, 168, 169, 171, 172, 174, 175, 177, 178, 180, 181, 183, 184, 186, 187, 189, 190, 192, 193, 195, 196, 198, 199, 201, 202, 204, 205, 207, 208, 210, 211, 213, 214, 216, 217, 219]\n"
          ]
        }
      ],
      "source": [
        "# Run at the end, but do not modify - we will use this to asses your output.\n",
        "for c in CLASS_NAMES:\n",
        "    s = pd.Series(results[c])\n",
        "    print(s.sort_values(ascending=False)[:10].index.tolist())\n",
        "    print(s.sort_values(ascending=True)[:10].index.tolist())\n",
        "\n",
        "def get_sorted_indices(loader):\n",
        "    loader.dataset.return_only_indices = True\n",
        "    indices = sorted([x.item() for x in loader])\n",
        "    loader.dataset.return_only_indices = False\n",
        "    return indices\n",
        "\n",
        "for c in CLASS_NAMES:\n",
        "    print(get_sorted_indices(dataloaders[c][\"val_dataloader\"]))\n",
        "    print(get_sorted_indices(dataloaders[c][\"test_dataloader\"]))\n",
        "    for v in dataloaders[c][\"train_dataloaders\"]:\n",
        "        print(get_sorted_indices(v))"
      ]
    },
    {
      "cell_type": "markdown",
      "metadata": {
        "id": "jT1Hr-IpUSux"
      },
      "source": [
        "# Task 2. Improving PADIM with Online Covariance Estimation\n",
        "\n",
        "This implementation of PADIM can be improved in numerous ways. In this exercise, you'll try to indicate its shortcomings and provide some means to mitigate them.\n",
        "\n",
        "#### 2.1. PADIM's training complexity (15%)\n",
        "\n",
        "- Identify the key operations contributing to the algorithm's training space complexity *in this implementation*. Don't focus on the backbone, as it is not the part of the algorithm (however, its output is).\n",
        "- Shortly discuss the implications for scalability. You can support your claims by charts if needed.\n",
        "\n",
        "*Hint: this doesn't need to be super formal analysis - it's about fiding the \"worst\" parts of this implementation. You can support your claims with a chart and brief description (e.g. \"X dominates the complexity, as it's quadratic.\")*"
      ]
    },
    {
      "cell_type": "markdown",
      "metadata": {
        "id": "fRXTEs-xUSux"
      },
      "source": [
        "```Your answer to task 2.1 goes here```\n",
        "The biggest contributor to the space complexity of this algorithm is the fact that we are calculating the covariance matrixes in an ofline manner. Because of that, we have to store all the network outputs in memory. That means that our space complexity is linearly dependent on the size of our training set. This could create problems for scalability because if our training set is large, we would not have enough memory to store it on one training device."
      ]
    },
    {
      "cell_type": "code",
      "execution_count": null,
      "metadata": {
        "id": "UyF1xaO6USux"
      },
      "outputs": [],
      "source": [
        "# Your code goes here (if needed)"
      ]
    },
    {
      "cell_type": "markdown",
      "metadata": {
        "id": "w3EPkO2QUSuy"
      },
      "source": [
        "#### 2.2 Online mean and covariance (35%)\n",
        "Implement a PyTorch version of [online covariance matrix estimation](https://en.wikipedia.org/wiki/Algorithms_for_calculating_variance#Online) in the training as an alternative to the current method in PADIM.\n",
        "Calculate the mean in an online fashion as well.\n",
        "Your implementation shall run on the selected `torch.device` (such as GPU).\n",
        "No need to reimplement the testing routine to online in this exercise (although it'd be nice to have for Task 1), albeit small changes might be necessary (such as conversion from `torch.Tensor` to `np.ndarray`).\n",
        "\n",
        "Passing criteria:\n",
        "```python\n",
        "torch.allclose(padim_online.mean, torch.Tensor(padim_offline.mean).to(DEVICE), atol=0.01)\n",
        "torch.allclose(padim_online.cov, torch.Tensor(padim_offline.cov).to(DEVICE), atol=0.01)\n",
        "```\n"
      ]
    },
    {
      "cell_type": "code",
      "execution_count": null,
      "metadata": {
        "id": "drbBfVNmUSuy"
      },
      "outputs": [],
      "source": [
        "class PADIMWithOnlineCovariance(PADIM):\n",
        "\n",
        "    ### TODO: Your code goes here\n",
        "    def __init__(\n",
        "            self,\n",
        "            backbone: str,\n",
        "            device: torch.device,\n",
        "            save_path: Path,\n",
        "            backbone_features_idx: List[int],\n",
        "            class_names=...,\n",
        "            plot_metrics=False,\n",
        "            ) -> None:\n",
        "        super().__init__(backbone, device, save_path, backbone_features_idx, class_names, plot_metrics)\n",
        "\n",
        "    def train(self, train_dataloader: DataLoader, C: int, H: int, W: int):\n",
        "        \"\"\"C, H, W come from the size of embeddings: [B, C, H, W]\"\"\"\n",
        "        #self.train_outputs: Dict[str, List[torch.Tensor]] = {'layer1': [], 'layer2': [], 'layer3': []}\n",
        "\n",
        "        mean = np.zeros((C, H * W))\n",
        "        cov = np.zeros((C, C, H * W))\n",
        "        n = 0\n",
        "\n",
        "        for x, _, _ in tqdm(train_dataloader, desc='Feature extraction (train)'):\n",
        "            n = n + 1\n",
        "            self.train_outputs: Dict[str, List[torch.Tensor]] = {'layer1': [], 'layer2': [], 'layer3': []}\n",
        "            # Run model prediction.\n",
        "            with torch.no_grad():\n",
        "                _ = self.model(x.to(DEVICE))\n",
        "            # Get intermediate layer outputs.\n",
        "            assert list(self.outputs.keys())  == ['layer1', 'layer2', 'layer3'], list(self.outputs.keys())\n",
        "            for k, v in self.outputs.items():\n",
        "                #print('k.shape = ', k, ' v.shape = ', v.shape)\n",
        "                self.train_outputs[k].append(v.cpu().detach())\n",
        "            # Reset hook outputs.\n",
        "            self.outputs = {}\n",
        "\n",
        "            embedding_vectors = concatenate_embeddings_from_all_layers(\n",
        "                {k: torch.cat(v, 0) for k, v in self.train_outputs.items()})\n",
        "            embedding_vectors_subset = torch.index_select(embedding_vectors, 1, self.feature_subset_indices.cpu())\n",
        "\n",
        "            embedding = embedding_vectors_subset[0].view(C, H * W).numpy()\n",
        "\n",
        "            mean = mean + (embedding - mean)/n\n",
        "\n",
        "            for j in range(H*W):\n",
        "                v = np.expand_dims(embedding[:, j], axis = 0)\n",
        "                if n > 1:\n",
        "                    cov[:, :, j] =(n-1)* (cov[:, :, j])/n +  ((v - mean[:, j].copy()).T @ (v - mean[:, j].copy()) )/(n-1)\n",
        "\n",
        "            del(self.train_outputs)\n",
        "\n",
        "        cov = cov + 0.01 * np.expand_dims(np.identity(C), axis = 2)\n",
        "\n",
        "        self.mean, self.cov = torch.tensor(mean).to(DEVICE).float(), torch.tensor(cov).to(DEVICE).float()\n",
        "    ### END OF YOUR CODE"
      ]
    },
    {
      "cell_type": "code",
      "execution_count": null,
      "metadata": {
        "id": "Tgx5LvKEUSuz",
        "colab": {
          "base_uri": "https://localhost:8080/"
        },
        "outputId": "1f5b400e-d752-401a-b4fd-d47708b95929"
      },
      "outputs": [
        {
          "output_type": "stream",
          "name": "stderr",
          "text": [
            "Feature extraction (train): 100%|██████████| 209/209 [00:38<00:00,  5.46it/s]\n",
            "Covariance estimation: 100%|██████████| 3136/3136 [00:01<00:00, 2600.34it/s]\n",
            "Feature extraction (train): 100%|██████████| 209/209 [01:11<00:00,  2.91it/s]\n"
          ]
        },
        {
          "output_type": "execute_result",
          "data": {
            "text/plain": [
              "True"
            ]
          },
          "metadata": {},
          "execution_count": 44
        }
      ],
      "source": [
        "# do not modify\n",
        "seed_all(SEED)\n",
        "class_name = 'bottle'\n",
        "BATCH_SIZE = 1\n",
        "RESIZE = 256 * 1\n",
        "CROP_SIZE = 224 * 1\n",
        "BACKBONE = \"resnet18\"\n",
        "NUMBER_OF_BACKBONE_FEATURES = 30\n",
        "MAX_NUMBER_OF_BACKBONE_FEATURES = 448\n",
        "# DEVICE=\"cpu\"\n",
        "\n",
        "indices = sample_idx(NUMBER_OF_BACKBONE_FEATURES, MAX_NUMBER_OF_BACKBONE_FEATURES).to(DEVICE)\n",
        "\n",
        "run_timestamp = time.time()\n",
        "SAVE_PATH = Path(f\"./results/{run_timestamp}/{class_name}\")\n",
        "\n",
        "train_dataset = MVTecDataset(DATA_PATH, class_name=class_name, is_train=True, resize=RESIZE, cropsize=CROP_SIZE)\n",
        "train_dataloader = DataLoader(train_dataset, batch_size=BATCH_SIZE, pin_memory=True)\n",
        "test_dataset = MVTecDataset(DATA_PATH, class_name=class_name, is_train=False, resize=RESIZE, cropsize=CROP_SIZE)\n",
        "val_dataloader = DataLoader(test_dataset, batch_size=BATCH_SIZE, pin_memory=True)\n",
        "\n",
        "\n",
        "padim_offline = PADIM(\n",
        "    backbone=BACKBONE,\n",
        "    device=DEVICE,\n",
        "    backbone_features_idx=indices,\n",
        "    save_path=SAVE_PATH,\n",
        "    plot_metrics=True,\n",
        ")\n",
        "padim_offline.train(train_dataloader)\n",
        "\n",
        "padim_online = PADIMWithOnlineCovariance(\n",
        "    backbone=BACKBONE,\n",
        "    device=DEVICE,\n",
        "    backbone_features_idx=indices,\n",
        "    save_path=SAVE_PATH,\n",
        "    plot_metrics=True,\n",
        ")\n",
        "padim_online.train(train_dataloader, NUMBER_OF_BACKBONE_FEATURES, int(CROP_SIZE/4), int(CROP_SIZE/4))\n",
        "\n",
        "torch.allclose(padim_online.mean, torch.Tensor(padim_offline.mean).to(DEVICE), atol=0.01) and torch.allclose(padim_online.cov, torch.Tensor(padim_offline.cov).to(DEVICE), atol=0.01)"
      ]
    },
    {
      "cell_type": "markdown",
      "metadata": {
        "id": "S8FqFnLqUSu0"
      },
      "source": [
        "#### 2.3 Performance experiments (10%)\n",
        "If you completed task 2.2, design experiments to empirically compare `space/memory` performance of PADIM training with both traditional and online covariance matrix estimation. Write short conclusions.\n",
        "\n",
        "#### 2.4 Bonus task (optional)\n",
        "You can also add similar experiments with conclusions with regard to the `time` complexity. This task is optional, but if you'll loose points elsewhere, this can help you to make up for some of them."
      ]
    },
    {
      "cell_type": "code",
      "source": [
        "!pip install memory-profiler --quiet\n",
        "%load_ext memory_profiler"
      ],
      "metadata": {
        "id": "cX2oF3dNHRdS"
      },
      "execution_count": null,
      "outputs": []
    },
    {
      "cell_type": "code",
      "execution_count": null,
      "metadata": {
        "id": "2CbjDniOUSu0",
        "colab": {
          "base_uri": "https://localhost:8080/"
        },
        "outputId": "5767ce96-24ad-44a2-c756-c3d71f62eafa"
      },
      "outputs": [
        {
          "output_type": "stream",
          "name": "stderr",
          "text": [
            "Feature extraction (train): 100%|██████████| 209/209 [00:50<00:00,  4.15it/s]\n",
            "Covariance estimation: 100%|██████████| 3136/3136 [00:01<00:00, 2528.71it/s]\n"
          ]
        },
        {
          "output_type": "stream",
          "name": "stdout",
          "text": [
            "peak memory: 7302.47 MiB, increment: 3361.27 MiB\n"
          ]
        },
        {
          "output_type": "stream",
          "name": "stderr",
          "text": [
            "Feature extraction (train): 100%|██████████| 209/209 [01:08<00:00,  3.05it/s]"
          ]
        },
        {
          "output_type": "stream",
          "name": "stdout",
          "text": [
            "peak memory: 3942.48 MiB, increment: 0.10 MiB\n"
          ]
        },
        {
          "output_type": "stream",
          "name": "stderr",
          "text": [
            "\n"
          ]
        }
      ],
      "source": [
        "# Your code goes here\n",
        "padim_ofline_for_memory_training = PADIM(\n",
        "    backbone=BACKBONE,\n",
        "    device=DEVICE,\n",
        "    backbone_features_idx=indices,\n",
        "    save_path=SAVE_PATH,\n",
        "    plot_metrics=True,\n",
        ")\n",
        "padim_online_for_memory_training = PADIMWithOnlineCovariance(\n",
        "    backbone=BACKBONE,\n",
        "    device=DEVICE,\n",
        "    backbone_features_idx=indices,\n",
        "    save_path=SAVE_PATH,\n",
        "    plot_metrics=True,\n",
        ")\n",
        "\n",
        "%memit padim_ofline_for_memory_training.train(train_dataloader)\n",
        "%memit padim_online_for_memory_training.train(train_dataloader, NUMBER_OF_BACKBONE_FEATURES, int(CROP_SIZE/4), int(CROP_SIZE/4))"
      ]
    },
    {
      "cell_type": "markdown",
      "metadata": {
        "id": "1aPHmGvfUSu1"
      },
      "source": [
        "```Your conclusions go here```\n",
        "Based on this result, it is clear that online PADIM has lower memory requirements."
      ]
    },
    {
      "cell_type": "markdown",
      "source": [
        "Task 2.4"
      ],
      "metadata": {
        "id": "05RMZyRUIj3j"
      }
    },
    {
      "cell_type": "code",
      "source": [
        "import time\n",
        "\n",
        "class_names = ['bottle', 'transistor', 'metal_nut']\n",
        "ofline_times = []\n",
        "online_times = []\n",
        "for class_name in class_names:\n",
        "    train_dataset = MVTecDataset(DATA_PATH, class_name=class_name, is_train=True, resize=RESIZE, cropsize=CROP_SIZE)\n",
        "    train_dataloader = DataLoader(train_dataset, batch_size=BATCH_SIZE, pin_memory=True)\n",
        "    test_dataset = MVTecDataset(DATA_PATH, class_name=class_name, is_train=False, resize=RESIZE, cropsize=CROP_SIZE)\n",
        "    val_dataloader = DataLoader(test_dataset, batch_size=BATCH_SIZE, pin_memory=True)\n",
        "\n",
        "\n",
        "    padim_offline = PADIM(\n",
        "        backbone=BACKBONE,\n",
        "        device=DEVICE,\n",
        "        backbone_features_idx=indices,\n",
        "        save_path=SAVE_PATH,\n",
        "        plot_metrics=True,\n",
        "    )\n",
        "\n",
        "    start_time = time.time()\n",
        "    padim_offline.train(train_dataloader)\n",
        "    end_time = time.time()\n",
        "    ofline_times.append(end_time - start_time)\n",
        "\n",
        "    padim_online = PADIMWithOnlineCovariance(\n",
        "        backbone=BACKBONE,\n",
        "        device=DEVICE,\n",
        "        backbone_features_idx=indices,\n",
        "        save_path=SAVE_PATH,\n",
        "        plot_metrics=True,\n",
        "    )\n",
        "    start_time = time.time()\n",
        "    padim_online.train(train_dataloader, NUMBER_OF_BACKBONE_FEATURES, int(CROP_SIZE/4), int(CROP_SIZE/4))\n",
        "    end_time = time.time()\n",
        "    online_times.append(end_time - start_time)\n",
        "\n",
        "print(' ')\n",
        "print('Mean training time of OFLINE PADIM across clases is ', np.mean(np.array(ofline_times)))\n",
        "print('Mean training time of ONLINE PADIM across clases is ', np.mean(np.array(online_times)))"
      ],
      "metadata": {
        "colab": {
          "base_uri": "https://localhost:8080/"
        },
        "id": "X13RS7g1IjRE",
        "outputId": "3cab2ca6-643c-4881-e40d-167fa80d0c5c"
      },
      "execution_count": null,
      "outputs": [
        {
          "output_type": "stream",
          "name": "stderr",
          "text": [
            "Feature extraction (train): 100%|██████████| 209/209 [00:59<00:00,  3.54it/s]\n",
            "Covariance estimation: 100%|██████████| 3136/3136 [00:01<00:00, 2607.66it/s]\n",
            "Feature extraction (train): 100%|██████████| 209/209 [01:08<00:00,  3.04it/s]\n",
            "Feature extraction (train): 100%|██████████| 213/213 [00:40<00:00,  5.27it/s]\n",
            "Covariance estimation: 100%|██████████| 3136/3136 [00:01<00:00, 2681.59it/s]\n",
            "Feature extraction (train): 100%|██████████| 213/213 [01:20<00:00,  2.65it/s]\n",
            "Feature extraction (train): 100%|██████████| 220/220 [00:31<00:00,  6.96it/s]\n",
            "Covariance estimation: 100%|██████████| 3136/3136 [00:01<00:00, 2533.80it/s]\n",
            "Feature extraction (train): 100%|██████████| 220/220 [01:14<00:00,  2.97it/s]"
          ]
        },
        {
          "output_type": "stream",
          "name": "stdout",
          "text": [
            " \n",
            "Mean time of OFLINE PADIM across clases is  52.500293016433716\n",
            "Mean time of ONLINE PADIM across clases is  74.36910740534465\n"
          ]
        },
        {
          "output_type": "stream",
          "name": "stderr",
          "text": [
            "\n"
          ]
        }
      ]
    },
    {
      "cell_type": "markdown",
      "source": [
        "We can see that ofline PADIM is significantly faster than this implementation of online PADIM.\n"
      ],
      "metadata": {
        "id": "WZ6Uw0O4LZJL"
      }
    }
  ],
  "metadata": {
    "kernelspec": {
      "display_name": "Python 3",
      "name": "python3"
    },
    "language_info": {
      "codemirror_mode": {
        "name": "ipython",
        "version": 3
      },
      "file_extension": ".py",
      "mimetype": "text/x-python",
      "name": "python",
      "nbconvert_exporter": "python",
      "pygments_lexer": "ipython3",
      "version": "3.10.11"
    },
    "colab": {
      "provenance": [],
      "gpuType": "T4"
    },
    "accelerator": "GPU"
  },
  "nbformat": 4,
  "nbformat_minor": 0
}